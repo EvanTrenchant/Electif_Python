{
  "cells": [
    {
      "cell_type": "markdown",
      "metadata": {
        "id": "z9dd7Gi7_92L"
      },
      "source": [
        "# Projet électif python: Basket Data"
      ]
    },
    {
      "cell_type": "markdown",
      "metadata": {
        "id": "Nc99W8MfAKRv"
      },
      "source": [
        "Ce notebook sert de rendu à notre projet d'analyse de données sur la NBA."
      ]
    },
    {
      "cell_type": "markdown",
      "metadata": {
        "id": "pyvt83ltYSTJ"
      },
      "source": [
        "\n",
        "\n",
        "---\n",
        "\n",
        "\n",
        "On commence par importer les librairies utilisés pour l'ensemble du projet:\n",
        "\n",
        "\n",
        "*   numpy pour la gestion des grands nombres ainsi que certaines fonctions mathématiques.\n",
        "*   panda pour la récupération des données depuis un fichier `.csv`.\n",
        "*   plotly pour la représentation graphique des statistiques souhaitées avec un contrôle accru de l'infographie."
      ]
    },
    {
      "cell_type": "code",
      "execution_count": 1,
      "metadata": {
        "id": "z3XAGnT8YarY"
      },
      "outputs": [],
      "source": [
        "import pandas as pd\n",
        "import numpy as np\n",
        "import plotly.graph_objects as go"
      ]
    },
    {
      "cell_type": "markdown",
      "metadata": {
        "id": "VUHQ-U_HZFkt"
      },
      "source": [
        "Le code ci-dessous permet de récupérer le fichier .csv source contenant les stats de l'ensemble des joueurs de la NBA (ici la saison 2022-23) et récupère les informations relatives à un joueur précis."
      ]
    },
    {
      "cell_type": "code",
      "execution_count": 2,
      "metadata": {
        "colab": {
          "base_uri": "https://localhost:8080/"
        },
        "id": "d_WuCciQ8fBk",
        "outputId": "591f912f-300b-4e6a-bf91-4f54888ee4ec"
      },
      "outputs": [
        {
          "name": "stdout",
          "output_type": "stream",
          "text": [
            "Stats de Rudy Gobert:\n",
            "PPG: 14.0\n",
            "RPG: 12.9\n",
            "APG: 1.3\n",
            "BPG: 2.1\n",
            "SPG: 0.7\n",
            "TPG: 1.6\n",
            "TS%: 0.675\n"
          ]
        }
      ],
      "source": [
        "# Chemin vers le fichier CSV\n",
        "chemin_fichier_csv = \"NBA Stats 202324 All Stats  NBA Player Props Tool.csv\"\n",
        "# Importer les données depuis le fichier CSV\n",
        "donnees = pd.read_csv(chemin_fichier_csv)\n",
        "nom_joueur = input(\"Veuillez saisir le nom du joueur : \")\n",
        "attributs = ['PPG', 'RPG', 'APG', 'BPG', 'SPG', 'TPG', 'TS%']\n",
        "\n",
        "\n",
        "def recup_stats_joueur(nom_joueur, attributs):\n",
        "    stats = {}\n",
        "    # On récupère les lignes correspondant au joueur recherché\n",
        "    donnees_joueur = donnees[donnees['NAME'] == nom_joueur]\n",
        "    if not donnees_joueur.empty:\n",
        "        # Boucler sur chaque attribut\n",
        "        for attribut in attributs:\n",
        "            # Filtrer: on retire les valeurs non valides (NaN)\n",
        "            valeurs_valides = donnees_joueur[attribut].dropna()\n",
        "\n",
        "            # Vérifier qu'il reste des valeurs valides après le filtrage\n",
        "            if not valeurs_valides.empty:\n",
        "                # Calculer la moyenne des valeurs valides et stocker dans le dictionnaire\n",
        "                moyenne_attribut = valeurs_valides.mean()\n",
        "                stats[attribut] = moyenne_attribut\n",
        "            else:\n",
        "                print(f\"Aucune valeur valide trouvée pour la stat: {attribut}.\")\n",
        "    else:\n",
        "        print(\"Le joueur\", nom_joueur, \"n'a pas été trouvé dans les données.\")\n",
        "    return stats\n",
        "\n",
        "# Appeler la fonction pour récupérer les statistiques du joueur\n",
        "stats_joueur = recup_stats_joueur(nom_joueur, attributs)\n",
        "\n",
        "# Afficher les statistiques du joueur\n",
        "print(f\"Stats de {nom_joueur}:\")\n",
        "for attribut, stat in stats_joueur.items():\n",
        "    print(f\"{attribut}: {stat}\")"
      ]
    },
    {
      "cell_type": "markdown",
      "metadata": {
        "id": "XOXpeH7uZflF"
      },
      "source": [
        "Cette fonction prend en entrée un `DataFrame` contenant les données des joueurs ainsi qu'une liste d'attributs.\n",
        "Elle récupère les données pour chaque joueur dans le `DataFrame`, calcule la moyenne de chaque attribut et renvoie un dictionnaire contenant les moyennes de chaque attribut."
      ]
    },
    {
      "cell_type": "code",
      "execution_count": 3,
      "metadata": {
        "colab": {
          "base_uri": "https://localhost:8080/"
        },
        "id": "UfCRlek7CUeS",
        "outputId": "5d65b8bd-006d-4edf-b41c-a7083f8fe37e"
      },
      "outputs": [
        {
          "name": "stdout",
          "output_type": "stream",
          "text": [
            "Moyennes globales des stats de l'ensemble des joueurs:\n",
            "PPG: 8.148858447488584\n",
            "RPG: 3.2777777777777777\n",
            "APG: 1.9528158295281584\n",
            "BPG: 0.38843226788432267\n",
            "SPG: 0.5881278538812785\n",
            "TPG: 0.9555555555555555\n",
            "TS%: 0.5372115677321156\n"
          ]
        }
      ],
      "source": [
        "def calculer_moyenne_attributs_joueurs(dataframe, attributs):\n",
        "    moyennes = {}\n",
        "\n",
        "    # Boucler sur chaque attribut\n",
        "    for attribut in attributs:\n",
        "        # Filtrer: on retire les valeurs non valides (NaN)\n",
        "        valeurs_valides = dataframe[attribut].dropna()\n",
        "\n",
        "        # Vérifier qu'il reste des valeurs valides après le filtrage\n",
        "        if len(valeurs_valides) > 0:\n",
        "            moyenne_attribut = np.mean(valeurs_valides)\n",
        "\n",
        "            # Ajouter la moyenne de l'attribut au dictionnaire des moyennes\n",
        "            moyennes[attribut] = moyenne_attribut\n",
        "        else:\n",
        "            print(f\"Aucune valeur valide trouvée pour la stat: {attribut}.\")\n",
        "\n",
        "    return moyennes\n",
        "\n",
        "# Calculer la moyenne des attributs pour l'ensemble des joueurs de la liste\n",
        "moyennes_globales = calculer_moyenne_attributs_joueurs(donnees, attributs)\n",
        "print(\"Moyennes globales des stats de l'ensemble des joueurs:\")\n",
        "for attribut, moyenne in moyennes_globales.items():\n",
        "    print(f\"{attribut}: {moyenne}\")"
      ]
    },
    {
      "cell_type": "markdown",
      "metadata": {
        "id": "saVCWeYzZ0V9"
      },
      "source": [
        "Cette fonction reprend le principe de la fonction précédente et calcule les moyennes des statistiques pour les joueurs du même poste que celui du joueur spécifié."
      ]
    },
    {
      "cell_type": "code",
      "execution_count": 4,
      "metadata": {
        "colab": {
          "base_uri": "https://localhost:8080/"
        },
        "id": "GdICvkUTDVhR",
        "outputId": "65249647-6722-461f-d161-2002d378a010"
      },
      "outputs": [
        {
          "name": "stdout",
          "output_type": "stream",
          "text": [
            "Moyennes des stats pour les joueurs du même poste que Rudy Gobert\n",
            "PPG: 8.76969696969697\n",
            "RPG: 5.9787878787878785\n",
            "APG: 1.5666666666666667\n",
            "BPG: 0.8772727272727273\n",
            "SPG: 0.4954545454545455\n",
            "TPG: 1.0545454545454545\n",
            "TS%: 0.5689090909090909\n"
          ]
        }
      ],
      "source": [
        "def moyenne_attributs_meme_poste(dataframe, nom_joueur, attributs):\n",
        "    # Filtrer les données pour n'inclure que les joueurs du même poste que celui spécifié\n",
        "    poste_joueur = dataframe.loc[dataframe['NAME'] == nom_joueur, 'POS'].iloc[0]\n",
        "    donnees_meme_poste = dataframe[dataframe['POS'] == poste_joueur]\n",
        "    # Calcul des moyennes des attributs pour les joueurs\n",
        "    moyennes_meme_poste = calculer_moyenne_attributs_joueurs(donnees_meme_poste, attributs)\n",
        "    return moyennes_meme_poste\n",
        "\n",
        "# Calculer les moyennes des attributs pour les joueurs du même poste que celui du joueur spécifié\n",
        "moyennes_meme_poste = moyenne_attributs_meme_poste(donnees, nom_joueur, attributs)\n",
        "# Afficher les moyennes calculées\n",
        "print(\"Moyennes des stats pour les joueurs du même poste que\", nom_joueur)\n",
        "for attribut, moyenne in moyennes_meme_poste.items():\n",
        "    print(f\"{attribut}: {moyenne}\")"
      ]
    },
    {
      "cell_type": "markdown",
      "metadata": {
        "id": "zynjbGkiXYy7"
      },
      "source": [
        "La fonction ci-dessous permet de normaliser les statistiques récupérées pour le joueur étudié ainsi que les moyennes calculées. Pour ce faire, on recherche la valeur maximale de chaque stat, tous joueurs confondus, puis on calcul le ratio entre ces deux valeurs pour obtenir un pourcentage.\n",
        "N.B.: ce traitement permet d'aboutir à des stats en % pour obtenir un diagramme homogène."
      ]
    },
    {
      "cell_type": "code",
      "execution_count": 5,
      "metadata": {
        "id": "6hQJxMm0XXa7"
      },
      "outputs": [],
      "source": [
        "def normaliser_donnees(dataframe, joueur, attributs, stats):\n",
        "    # Créer un dictionnaire pour stocker les valeurs maximales de chaque attribut\n",
        "    max_valeurs = {attribut: dataframe[attribut].max() for attribut in attributs}\n",
        "    # Normaliser les données brutes en pourcentage par rapport à la valeur maximale\n",
        "    donnees_normalisees = {}\n",
        "    for attribut in attributs:\n",
        "        # Normaliser les données brutes du joueur\n",
        "        valeur_joueur = stats[attribut]\n",
        "        pourcentage_joueur = np.round((valeur_joueur / max_valeurs[attribut]) * 100, 1)  # Arrondir à une décimale\n",
        "        # Stocker les valeurs normalisées dans le dictionnaire\n",
        "        donnees_normalisees[attribut] = pourcentage_joueur\n",
        "    return donnees_normalisees\n",
        "\n",
        "# Utilisation de la fonction pour normaliser les données pour le joueur spécifié\n",
        "donnees_normalisees_joueur = normaliser_donnees(donnees, nom_joueur, attributs, stats_joueur)\n",
        "donnees_normalisees_globales = normaliser_donnees(donnees, nom_joueur, attributs, moyennes_globales)\n",
        "donnees_normalisees_poste = normaliser_donnees(donnees, nom_joueur, attributs, moyennes_meme_poste)"
      ]
    },
    {
      "cell_type": "markdown",
      "metadata": {
        "id": "k-jESuYnaFhb"
      },
      "source": [
        "\n",
        "\n",
        "---\n",
        "\n",
        "\n",
        "La fonction suivante permet la génération d'un diagramme de Kiviat représentant les statistiques normalisées du joueur séléctionné ainsi que celles des joueurs de toute la ligue, et celles des joueurs du même poste (moyennes). L'objectif est de proposer une comparaison pertinente pour un joueur.\n",
        "\n",
        "**Remarque :** *Les statistiques affichées sont représentées en % et ne représentent donc pas les valeurs réelles.*"
      ]
    },
    {
      "cell_type": "code",
      "execution_count": 6,
      "metadata": {
        "colab": {
          "base_uri": "https://localhost:8080/",
          "height": 542
        },
        "id": "_RLEt8lzEUKm",
        "outputId": "875a823e-e76e-4be3-9bd6-8ac3cbdb28b6"
      },
      "outputs": [
        {
          "data": {
            "application/vnd.plotly.v1+json": {
              "config": {
                "plotlyServerURL": "https://plot.ly"
              },
              "data": [
                {
                  "fill": "toself",
                  "line": {
                    "color": "blue"
                  },
                  "name": "Rudy Gobert",
                  "r": [
                    40.3,
                    94.2,
                    11.9,
                    58.3,
                    33.3,
                    36.4,
                    73.6
                  ],
                  "theta": [
                    "PPG",
                    "RPG",
                    "APG",
                    "BPG",
                    "SPG",
                    "TPG",
                    "TS%"
                  ],
                  "type": "scatterpolar"
                },
                {
                  "fill": "toself",
                  "line": {
                    "color": "green"
                  },
                  "name": "Moyenne globale",
                  "r": [
                    23.5,
                    23.9,
                    17.9,
                    10.8,
                    28,
                    21.7,
                    58.6
                  ],
                  "theta": [
                    "PPG",
                    "RPG",
                    "APG",
                    "BPG",
                    "SPG",
                    "TPG",
                    "TS%"
                  ],
                  "type": "scatterpolar"
                },
                {
                  "fill": "toself",
                  "line": {
                    "color": "orange"
                  },
                  "name": "Moyenne du poste",
                  "r": [
                    25.3,
                    43.6,
                    14.4,
                    24.4,
                    23.6,
                    24,
                    62
                  ],
                  "theta": [
                    "PPG",
                    "RPG",
                    "APG",
                    "BPG",
                    "SPG",
                    "TPG",
                    "TS%"
                  ],
                  "type": "scatterpolar"
                }
              ],
              "layout": {
                "polar": {
                  "radialaxis": {
                    "range": [
                      0,
                      100
                    ],
                    "visible": true
                  }
                },
                "template": {
                  "data": {
                    "bar": [
                      {
                        "error_x": {
                          "color": "#2a3f5f"
                        },
                        "error_y": {
                          "color": "#2a3f5f"
                        },
                        "marker": {
                          "line": {
                            "color": "#E5ECF6",
                            "width": 0.5
                          },
                          "pattern": {
                            "fillmode": "overlay",
                            "size": 10,
                            "solidity": 0.2
                          }
                        },
                        "type": "bar"
                      }
                    ],
                    "barpolar": [
                      {
                        "marker": {
                          "line": {
                            "color": "#E5ECF6",
                            "width": 0.5
                          },
                          "pattern": {
                            "fillmode": "overlay",
                            "size": 10,
                            "solidity": 0.2
                          }
                        },
                        "type": "barpolar"
                      }
                    ],
                    "carpet": [
                      {
                        "aaxis": {
                          "endlinecolor": "#2a3f5f",
                          "gridcolor": "white",
                          "linecolor": "white",
                          "minorgridcolor": "white",
                          "startlinecolor": "#2a3f5f"
                        },
                        "baxis": {
                          "endlinecolor": "#2a3f5f",
                          "gridcolor": "white",
                          "linecolor": "white",
                          "minorgridcolor": "white",
                          "startlinecolor": "#2a3f5f"
                        },
                        "type": "carpet"
                      }
                    ],
                    "choropleth": [
                      {
                        "colorbar": {
                          "outlinewidth": 0,
                          "ticks": ""
                        },
                        "type": "choropleth"
                      }
                    ],
                    "contour": [
                      {
                        "colorbar": {
                          "outlinewidth": 0,
                          "ticks": ""
                        },
                        "colorscale": [
                          [
                            0,
                            "#0d0887"
                          ],
                          [
                            0.1111111111111111,
                            "#46039f"
                          ],
                          [
                            0.2222222222222222,
                            "#7201a8"
                          ],
                          [
                            0.3333333333333333,
                            "#9c179e"
                          ],
                          [
                            0.4444444444444444,
                            "#bd3786"
                          ],
                          [
                            0.5555555555555556,
                            "#d8576b"
                          ],
                          [
                            0.6666666666666666,
                            "#ed7953"
                          ],
                          [
                            0.7777777777777778,
                            "#fb9f3a"
                          ],
                          [
                            0.8888888888888888,
                            "#fdca26"
                          ],
                          [
                            1,
                            "#f0f921"
                          ]
                        ],
                        "type": "contour"
                      }
                    ],
                    "contourcarpet": [
                      {
                        "colorbar": {
                          "outlinewidth": 0,
                          "ticks": ""
                        },
                        "type": "contourcarpet"
                      }
                    ],
                    "heatmap": [
                      {
                        "colorbar": {
                          "outlinewidth": 0,
                          "ticks": ""
                        },
                        "colorscale": [
                          [
                            0,
                            "#0d0887"
                          ],
                          [
                            0.1111111111111111,
                            "#46039f"
                          ],
                          [
                            0.2222222222222222,
                            "#7201a8"
                          ],
                          [
                            0.3333333333333333,
                            "#9c179e"
                          ],
                          [
                            0.4444444444444444,
                            "#bd3786"
                          ],
                          [
                            0.5555555555555556,
                            "#d8576b"
                          ],
                          [
                            0.6666666666666666,
                            "#ed7953"
                          ],
                          [
                            0.7777777777777778,
                            "#fb9f3a"
                          ],
                          [
                            0.8888888888888888,
                            "#fdca26"
                          ],
                          [
                            1,
                            "#f0f921"
                          ]
                        ],
                        "type": "heatmap"
                      }
                    ],
                    "heatmapgl": [
                      {
                        "colorbar": {
                          "outlinewidth": 0,
                          "ticks": ""
                        },
                        "colorscale": [
                          [
                            0,
                            "#0d0887"
                          ],
                          [
                            0.1111111111111111,
                            "#46039f"
                          ],
                          [
                            0.2222222222222222,
                            "#7201a8"
                          ],
                          [
                            0.3333333333333333,
                            "#9c179e"
                          ],
                          [
                            0.4444444444444444,
                            "#bd3786"
                          ],
                          [
                            0.5555555555555556,
                            "#d8576b"
                          ],
                          [
                            0.6666666666666666,
                            "#ed7953"
                          ],
                          [
                            0.7777777777777778,
                            "#fb9f3a"
                          ],
                          [
                            0.8888888888888888,
                            "#fdca26"
                          ],
                          [
                            1,
                            "#f0f921"
                          ]
                        ],
                        "type": "heatmapgl"
                      }
                    ],
                    "histogram": [
                      {
                        "marker": {
                          "pattern": {
                            "fillmode": "overlay",
                            "size": 10,
                            "solidity": 0.2
                          }
                        },
                        "type": "histogram"
                      }
                    ],
                    "histogram2d": [
                      {
                        "colorbar": {
                          "outlinewidth": 0,
                          "ticks": ""
                        },
                        "colorscale": [
                          [
                            0,
                            "#0d0887"
                          ],
                          [
                            0.1111111111111111,
                            "#46039f"
                          ],
                          [
                            0.2222222222222222,
                            "#7201a8"
                          ],
                          [
                            0.3333333333333333,
                            "#9c179e"
                          ],
                          [
                            0.4444444444444444,
                            "#bd3786"
                          ],
                          [
                            0.5555555555555556,
                            "#d8576b"
                          ],
                          [
                            0.6666666666666666,
                            "#ed7953"
                          ],
                          [
                            0.7777777777777778,
                            "#fb9f3a"
                          ],
                          [
                            0.8888888888888888,
                            "#fdca26"
                          ],
                          [
                            1,
                            "#f0f921"
                          ]
                        ],
                        "type": "histogram2d"
                      }
                    ],
                    "histogram2dcontour": [
                      {
                        "colorbar": {
                          "outlinewidth": 0,
                          "ticks": ""
                        },
                        "colorscale": [
                          [
                            0,
                            "#0d0887"
                          ],
                          [
                            0.1111111111111111,
                            "#46039f"
                          ],
                          [
                            0.2222222222222222,
                            "#7201a8"
                          ],
                          [
                            0.3333333333333333,
                            "#9c179e"
                          ],
                          [
                            0.4444444444444444,
                            "#bd3786"
                          ],
                          [
                            0.5555555555555556,
                            "#d8576b"
                          ],
                          [
                            0.6666666666666666,
                            "#ed7953"
                          ],
                          [
                            0.7777777777777778,
                            "#fb9f3a"
                          ],
                          [
                            0.8888888888888888,
                            "#fdca26"
                          ],
                          [
                            1,
                            "#f0f921"
                          ]
                        ],
                        "type": "histogram2dcontour"
                      }
                    ],
                    "mesh3d": [
                      {
                        "colorbar": {
                          "outlinewidth": 0,
                          "ticks": ""
                        },
                        "type": "mesh3d"
                      }
                    ],
                    "parcoords": [
                      {
                        "line": {
                          "colorbar": {
                            "outlinewidth": 0,
                            "ticks": ""
                          }
                        },
                        "type": "parcoords"
                      }
                    ],
                    "pie": [
                      {
                        "automargin": true,
                        "type": "pie"
                      }
                    ],
                    "scatter": [
                      {
                        "fillpattern": {
                          "fillmode": "overlay",
                          "size": 10,
                          "solidity": 0.2
                        },
                        "type": "scatter"
                      }
                    ],
                    "scatter3d": [
                      {
                        "line": {
                          "colorbar": {
                            "outlinewidth": 0,
                            "ticks": ""
                          }
                        },
                        "marker": {
                          "colorbar": {
                            "outlinewidth": 0,
                            "ticks": ""
                          }
                        },
                        "type": "scatter3d"
                      }
                    ],
                    "scattercarpet": [
                      {
                        "marker": {
                          "colorbar": {
                            "outlinewidth": 0,
                            "ticks": ""
                          }
                        },
                        "type": "scattercarpet"
                      }
                    ],
                    "scattergeo": [
                      {
                        "marker": {
                          "colorbar": {
                            "outlinewidth": 0,
                            "ticks": ""
                          }
                        },
                        "type": "scattergeo"
                      }
                    ],
                    "scattergl": [
                      {
                        "marker": {
                          "colorbar": {
                            "outlinewidth": 0,
                            "ticks": ""
                          }
                        },
                        "type": "scattergl"
                      }
                    ],
                    "scattermapbox": [
                      {
                        "marker": {
                          "colorbar": {
                            "outlinewidth": 0,
                            "ticks": ""
                          }
                        },
                        "type": "scattermapbox"
                      }
                    ],
                    "scatterpolar": [
                      {
                        "marker": {
                          "colorbar": {
                            "outlinewidth": 0,
                            "ticks": ""
                          }
                        },
                        "type": "scatterpolar"
                      }
                    ],
                    "scatterpolargl": [
                      {
                        "marker": {
                          "colorbar": {
                            "outlinewidth": 0,
                            "ticks": ""
                          }
                        },
                        "type": "scatterpolargl"
                      }
                    ],
                    "scatterternary": [
                      {
                        "marker": {
                          "colorbar": {
                            "outlinewidth": 0,
                            "ticks": ""
                          }
                        },
                        "type": "scatterternary"
                      }
                    ],
                    "surface": [
                      {
                        "colorbar": {
                          "outlinewidth": 0,
                          "ticks": ""
                        },
                        "colorscale": [
                          [
                            0,
                            "#0d0887"
                          ],
                          [
                            0.1111111111111111,
                            "#46039f"
                          ],
                          [
                            0.2222222222222222,
                            "#7201a8"
                          ],
                          [
                            0.3333333333333333,
                            "#9c179e"
                          ],
                          [
                            0.4444444444444444,
                            "#bd3786"
                          ],
                          [
                            0.5555555555555556,
                            "#d8576b"
                          ],
                          [
                            0.6666666666666666,
                            "#ed7953"
                          ],
                          [
                            0.7777777777777778,
                            "#fb9f3a"
                          ],
                          [
                            0.8888888888888888,
                            "#fdca26"
                          ],
                          [
                            1,
                            "#f0f921"
                          ]
                        ],
                        "type": "surface"
                      }
                    ],
                    "table": [
                      {
                        "cells": {
                          "fill": {
                            "color": "#EBF0F8"
                          },
                          "line": {
                            "color": "white"
                          }
                        },
                        "header": {
                          "fill": {
                            "color": "#C8D4E3"
                          },
                          "line": {
                            "color": "white"
                          }
                        },
                        "type": "table"
                      }
                    ]
                  },
                  "layout": {
                    "annotationdefaults": {
                      "arrowcolor": "#2a3f5f",
                      "arrowhead": 0,
                      "arrowwidth": 1
                    },
                    "autotypenumbers": "strict",
                    "coloraxis": {
                      "colorbar": {
                        "outlinewidth": 0,
                        "ticks": ""
                      }
                    },
                    "colorscale": {
                      "diverging": [
                        [
                          0,
                          "#8e0152"
                        ],
                        [
                          0.1,
                          "#c51b7d"
                        ],
                        [
                          0.2,
                          "#de77ae"
                        ],
                        [
                          0.3,
                          "#f1b6da"
                        ],
                        [
                          0.4,
                          "#fde0ef"
                        ],
                        [
                          0.5,
                          "#f7f7f7"
                        ],
                        [
                          0.6,
                          "#e6f5d0"
                        ],
                        [
                          0.7,
                          "#b8e186"
                        ],
                        [
                          0.8,
                          "#7fbc41"
                        ],
                        [
                          0.9,
                          "#4d9221"
                        ],
                        [
                          1,
                          "#276419"
                        ]
                      ],
                      "sequential": [
                        [
                          0,
                          "#0d0887"
                        ],
                        [
                          0.1111111111111111,
                          "#46039f"
                        ],
                        [
                          0.2222222222222222,
                          "#7201a8"
                        ],
                        [
                          0.3333333333333333,
                          "#9c179e"
                        ],
                        [
                          0.4444444444444444,
                          "#bd3786"
                        ],
                        [
                          0.5555555555555556,
                          "#d8576b"
                        ],
                        [
                          0.6666666666666666,
                          "#ed7953"
                        ],
                        [
                          0.7777777777777778,
                          "#fb9f3a"
                        ],
                        [
                          0.8888888888888888,
                          "#fdca26"
                        ],
                        [
                          1,
                          "#f0f921"
                        ]
                      ],
                      "sequentialminus": [
                        [
                          0,
                          "#0d0887"
                        ],
                        [
                          0.1111111111111111,
                          "#46039f"
                        ],
                        [
                          0.2222222222222222,
                          "#7201a8"
                        ],
                        [
                          0.3333333333333333,
                          "#9c179e"
                        ],
                        [
                          0.4444444444444444,
                          "#bd3786"
                        ],
                        [
                          0.5555555555555556,
                          "#d8576b"
                        ],
                        [
                          0.6666666666666666,
                          "#ed7953"
                        ],
                        [
                          0.7777777777777778,
                          "#fb9f3a"
                        ],
                        [
                          0.8888888888888888,
                          "#fdca26"
                        ],
                        [
                          1,
                          "#f0f921"
                        ]
                      ]
                    },
                    "colorway": [
                      "#636efa",
                      "#EF553B",
                      "#00cc96",
                      "#ab63fa",
                      "#FFA15A",
                      "#19d3f3",
                      "#FF6692",
                      "#B6E880",
                      "#FF97FF",
                      "#FECB52"
                    ],
                    "font": {
                      "color": "#2a3f5f"
                    },
                    "geo": {
                      "bgcolor": "white",
                      "lakecolor": "white",
                      "landcolor": "#E5ECF6",
                      "showlakes": true,
                      "showland": true,
                      "subunitcolor": "white"
                    },
                    "hoverlabel": {
                      "align": "left"
                    },
                    "hovermode": "closest",
                    "mapbox": {
                      "style": "light"
                    },
                    "paper_bgcolor": "white",
                    "plot_bgcolor": "#E5ECF6",
                    "polar": {
                      "angularaxis": {
                        "gridcolor": "white",
                        "linecolor": "white",
                        "ticks": ""
                      },
                      "bgcolor": "#E5ECF6",
                      "radialaxis": {
                        "gridcolor": "white",
                        "linecolor": "white",
                        "ticks": ""
                      }
                    },
                    "scene": {
                      "xaxis": {
                        "backgroundcolor": "#E5ECF6",
                        "gridcolor": "white",
                        "gridwidth": 2,
                        "linecolor": "white",
                        "showbackground": true,
                        "ticks": "",
                        "zerolinecolor": "white"
                      },
                      "yaxis": {
                        "backgroundcolor": "#E5ECF6",
                        "gridcolor": "white",
                        "gridwidth": 2,
                        "linecolor": "white",
                        "showbackground": true,
                        "ticks": "",
                        "zerolinecolor": "white"
                      },
                      "zaxis": {
                        "backgroundcolor": "#E5ECF6",
                        "gridcolor": "white",
                        "gridwidth": 2,
                        "linecolor": "white",
                        "showbackground": true,
                        "ticks": "",
                        "zerolinecolor": "white"
                      }
                    },
                    "shapedefaults": {
                      "line": {
                        "color": "#2a3f5f"
                      }
                    },
                    "ternary": {
                      "aaxis": {
                        "gridcolor": "white",
                        "linecolor": "white",
                        "ticks": ""
                      },
                      "baxis": {
                        "gridcolor": "white",
                        "linecolor": "white",
                        "ticks": ""
                      },
                      "bgcolor": "#E5ECF6",
                      "caxis": {
                        "gridcolor": "white",
                        "linecolor": "white",
                        "ticks": ""
                      }
                    },
                    "title": {
                      "x": 0.05
                    },
                    "xaxis": {
                      "automargin": true,
                      "gridcolor": "white",
                      "linecolor": "white",
                      "ticks": "",
                      "title": {
                        "standoff": 15
                      },
                      "zerolinecolor": "white",
                      "zerolinewidth": 2
                    },
                    "yaxis": {
                      "automargin": true,
                      "gridcolor": "white",
                      "linecolor": "white",
                      "ticks": "",
                      "title": {
                        "standoff": 15
                      },
                      "zerolinecolor": "white",
                      "zerolinewidth": 2
                    }
                  }
                },
                "title": {
                  "text": "Comparaison des stats pour Rudy Gobert"
                }
              }
            }
          },
          "metadata": {},
          "output_type": "display_data"
        }
      ],
      "source": [
        "import plotly.graph_objects as go\n",
        "\n",
        "def diagramme_kiviat(data_joueur, data_moyenne_globale, data_moyenne_poste, joueur):\n",
        "    \"\"\"\n",
        "    Cette fonction crée un diagramme de Kiviat pour visualiser les données normalisées des attributs.\n",
        "    \"\"\"\n",
        "    # Extraire les noms des attributs\n",
        "    attributs = list(data_joueur.keys())\n",
        "\n",
        "    # Extraire les valeurs normalisées pour le joueur, la moyenne globale et la moyenne du poste\n",
        "    valeurs_joueur = list(data_joueur.values())\n",
        "    valeurs_moyenne_globale = list(data_moyenne_globale.values())\n",
        "    valeurs_moyenne_poste = list(data_moyenne_poste.values())\n",
        "\n",
        "    # Créer un diagramme de Kiviat avec Plotly\n",
        "    fig = go.Figure()\n",
        "\n",
        "    # Ajouter les traces pour le joueur, la moyenne globale et la moyenne du poste\n",
        "    fig.add_trace(go.Scatterpolar(\n",
        "        r=valeurs_joueur,\n",
        "        theta=attributs,\n",
        "        fill='toself',\n",
        "        name=f'{joueur}',\n",
        "        line=dict(color='blue')\n",
        "    ))\n",
        "    fig.add_trace(go.Scatterpolar(\n",
        "        r=valeurs_moyenne_globale,\n",
        "        theta=attributs,\n",
        "        fill='toself',\n",
        "        name='Moyenne globale',\n",
        "        line=dict(color='green')\n",
        "    ))\n",
        "    fig.add_trace(go.Scatterpolar(\n",
        "        r=valeurs_moyenne_poste,\n",
        "        theta=attributs,\n",
        "        fill='toself',\n",
        "        name='Moyenne du poste',\n",
        "        line=dict(color='orange')\n",
        "    ))\n",
        "\n",
        "    # Ajouter un titre et ajuster la mise en page\n",
        "    fig.update_layout(\n",
        "        title=f\"Comparaison des stats pour {joueur}\",\n",
        "        polar=dict(\n",
        "            radialaxis=dict(\n",
        "                visible=True,\n",
        "                range=[0, 100]  # Plage de l'axe radial en pourcentage\n",
        "            )\n",
        "        )\n",
        "    )\n",
        "\n",
        "    # Afficher le diagramme\n",
        "    fig.show()\n",
        "\n",
        "# Utiliser la fonction pour créer le diagramme de Kiviat\n",
        "diagramme_kiviat(donnees_normalisees_joueur, donnees_normalisees_globales, donnees_normalisees_poste, nom_joueur)"
      ]
    },
    {
      "cell_type": "code",
      "execution_count": 9,
      "metadata": {},
      "outputs": [
        {
          "name": "stdout",
          "output_type": "stream",
          "text": [
            "Équipe de Rudy Gobert: 113    Min\n",
            "Name: TEAM, dtype: object\n",
            "Les joueurs de l'équipe de  Rudy Gobert sont les suivants :\n",
            "12              Anthony Edwards\n",
            "38           Karl-Anthony Towns\n",
            "113                 Rudy Gobert\n",
            "129                    Naz Reid\n",
            "166                 Mike Conley\n",
            "186             Jaden McDaniels\n",
            "253    Nickeil Alexander-Walker\n",
            "317               Kyle Anderson\n",
            "378                Monte Morris\n",
            "396                Shake Milton\n",
            "428              Troy Brown Jr.\n",
            "447                  Luka Garza\n",
            "468                 T.J. Warren\n",
            "476           Jordan McLaughlin\n",
            "569                 Daishen Nix\n",
            "575              Leonard Miller\n",
            "580                 Josh Minott\n",
            "629           Wendell Moore Jr.\n",
            "652              Justin Jackson\n",
            "Name: NAME, dtype: object\n",
            "Les cinq joueurs ayant le temps de jeu moyen le plus élevé dans l'équipe sont :\n",
            "                   NAME   MPG\n",
            "12      Anthony Edwards  35.1\n",
            "113         Rudy Gobert  34.1\n",
            "38   Karl-Anthony Towns  32.7\n",
            "186     Jaden McDaniels  29.2\n",
            "166         Mike Conley  28.9\n"
          ]
        }
      ],
      "source": [
        "# Trouver l'équipe du joueur\n",
        "equipe_joueur = donnees[donnees['NAME'] == nom_joueur]\n",
        "equipe_joueur = equipe_joueur['TEAM']\n",
        "# Afficher l'équipe du joueur\n",
        "print(\"Équipe de\", nom_joueur + \":\", equipe_joueur)\n",
        "\n",
        "\n",
        "chemin_equipe_csv = \"NBA Stats 202223 All Stats  NBA Player Props Tool.csv\"\n",
        "# Importer les données depuis le fichier team CSV\n",
        "team = pd.read_csv(chemin_equipe_csv)\n",
        "valeurs = ['PPG', 'oEFF', 'dEFF', 'W', 'L', 'pDIFF']\n",
        "\n",
        "\n",
        "# Récupérer les joueurs par équipe\n",
        "def meme_equipe(dataframe, nom_joueur):\n",
        "    # Filtrer les données pour n'inclure que les joueurs de la même équipe que celui spécifié\n",
        "    equipe_joueur = dataframe.loc[dataframe['NAME'] == nom_joueur, 'TEAM'].iloc[0]\n",
        "    donnees_meme_equipe = dataframe[dataframe['TEAM'] == equipe_joueur]\n",
        "    return donnees_meme_equipe\n",
        "# Afficher les noms des joueurs de la même équipe que celui spécifié\n",
        "print(\"Les joueurs de l'équipe de \", nom_joueur, \"sont les suivants :\")\n",
        "equipe_joueur = meme_equipe(donnees, nom_joueur)\n",
        "equipe_joueur = equipe_joueur['NAME']\n",
        "print(equipe_joueur)\n",
        "\n",
        "\n",
        "def cinq_majeur(dataframe, nom_joueur):\n",
        "    # Récupérer les données des joueurs de la même équipe que celui spécifié\n",
        "    equipe = meme_equipe(dataframe, nom_joueur)\n",
        "    # Trier les joueurs par ordre décroissant de temps de jeu moyen (MPG)\n",
        "    equipe_triee = equipe.sort_values(by='MPG', ascending=False)\n",
        "    # Sélectionner les cinq premiers joueurs avec le temps de jeu moyen le plus élevé\n",
        "    cinq_majeur = equipe_triee.head(5)\n",
        "    return cinq_majeur\n",
        "cinq_joueurs = cinq_majeur(donnees, nom_joueur)\n",
        "print(\"Les cinq joueurs ayant le temps de jeu moyen le plus élevé dans l'équipe sont :\")\n",
        "print(cinq_joueurs[['NAME', 'MPG']])"
      ]
    }
  ],
  "metadata": {
    "colab": {
      "provenance": []
    },
    "kernelspec": {
      "display_name": "Python 3",
      "name": "python3"
    },
    "language_info": {
      "codemirror_mode": {
        "name": "ipython",
        "version": 3
      },
      "file_extension": ".py",
      "mimetype": "text/x-python",
      "name": "python",
      "nbconvert_exporter": "python",
      "pygments_lexer": "ipython3",
      "version": "3.11.5"
    }
  },
  "nbformat": 4,
  "nbformat_minor": 0
}
