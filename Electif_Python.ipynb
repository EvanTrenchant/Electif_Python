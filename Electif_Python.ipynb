{
  "cells": [
    {
      "cell_type": "markdown",
      "metadata": {
        "id": "z9dd7Gi7_92L"
      },
      "source": [
        "# Projet électif python: Basket Data"
      ]
    },
    {
      "cell_type": "markdown",
      "metadata": {
        "id": "Nc99W8MfAKRv"
      },
      "source": [
        "Ce notebook sert de rendu à notre projet d'analyse de données sur la NBA."
      ]
    },
    {
      "cell_type": "markdown",
      "metadata": {
        "id": "pyvt83ltYSTJ"
      },
      "source": [
        "\n",
        "\n",
        "---\n",
        "\n",
        "\n",
        "On commence par importer les librairies utilisés pour l'ensemble du projet:\n",
        "\n",
        "\n",
        "*   numpy pour la gestion des grands nombres ainsi que certaines fonctions mathématiques.\n",
        "*   panda pour la récupération des données depuis un fichier `.csv`.\n",
        "*   plotly pour la représentation graphique des statistiques souhaitées avec un contrôle accru de l'infographie."
      ]
    },
    {
      "cell_type": "code",
      "execution_count": 27,
      "metadata": {
        "id": "z3XAGnT8YarY"
      },
      "outputs": [
        {
          "name": "stdout",
          "output_type": "stream",
          "text": [
            "Requirement already satisfied: pandas in d:\\anaconda3\\envs\\nba\\lib\\site-packages (2.2.2)\n",
            "Requirement already satisfied: numpy in d:\\anaconda3\\envs\\nba\\lib\\site-packages (1.26.4)\n",
            "Requirement already satisfied: plotly in d:\\anaconda3\\envs\\nba\\lib\\site-packages (5.21.0)\n",
            "Requirement already satisfied: requests in d:\\anaconda3\\envs\\nba\\lib\\site-packages (2.31.0)\n",
            "Requirement already satisfied: beautifulsoup4 in d:\\anaconda3\\envs\\nba\\lib\\site-packages (4.12.2)\n",
            "Requirement already satisfied: python-dateutil>=2.8.2 in d:\\anaconda3\\envs\\nba\\lib\\site-packages (from pandas) (2.8.2)\n",
            "Requirement already satisfied: pytz>=2020.1 in d:\\anaconda3\\envs\\nba\\lib\\site-packages (from pandas) (2023.3.post1)\n",
            "Requirement already satisfied: tzdata>=2022.7 in d:\\anaconda3\\envs\\nba\\lib\\site-packages (from pandas) (2024.1)\n",
            "Requirement already satisfied: tenacity>=6.2.0 in d:\\anaconda3\\envs\\nba\\lib\\site-packages (from plotly) (8.2.3)\n",
            "Requirement already satisfied: packaging in d:\\anaconda3\\envs\\nba\\lib\\site-packages (from plotly) (23.2)\n",
            "Requirement already satisfied: charset-normalizer<4,>=2 in d:\\anaconda3\\envs\\nba\\lib\\site-packages (from requests) (2.0.4)\n",
            "Requirement already satisfied: idna<4,>=2.5 in d:\\anaconda3\\envs\\nba\\lib\\site-packages (from requests) (3.4)\n",
            "Requirement already satisfied: urllib3<3,>=1.21.1 in d:\\anaconda3\\envs\\nba\\lib\\site-packages (from requests) (2.1.0)\n",
            "Requirement already satisfied: certifi>=2017.4.17 in d:\\anaconda3\\envs\\nba\\lib\\site-packages (from requests) (2024.2.2)\n",
            "Requirement already satisfied: soupsieve>1.2 in d:\\anaconda3\\envs\\nba\\lib\\site-packages (from beautifulsoup4) (2.5)\n",
            "Requirement already satisfied: six>=1.5 in d:\\anaconda3\\envs\\nba\\lib\\site-packages (from python-dateutil>=2.8.2->pandas) (1.16.0)\n",
            "Note: you may need to restart the kernel to use updated packages.\n"
          ]
        }
      ],
      "source": [
        "%pip install pandas numpy plotly requests beautifulsoup4\n",
        "\n",
        "import pandas as pd\n",
        "import numpy as np\n",
        "import plotly.graph_objects as go\n",
        "import requests\n",
        "from bs4 import BeautifulSoup"
      ]
    },
    {
      "cell_type": "markdown",
      "metadata": {
        "id": "VUHQ-U_HZFkt"
      },
      "source": [
        "Le code ci-dessous permet de récupérer le fichier .csv source contenant les stats de l'ensemble des joueurs de la NBA (ici la saison 2022-23) et récupère les informations relatives à un joueur précis."
      ]
    },
    {
      "cell_type": "code",
      "execution_count": 57,
      "metadata": {
        "colab": {
          "base_uri": "https://localhost:8080/"
        },
        "id": "d_WuCciQ8fBk",
        "outputId": "591f912f-300b-4e6a-bf91-4f54888ee4ec"
      },
      "outputs": [
        {
          "name": "stdout",
          "output_type": "stream",
          "text": [
            "Stats de Luka Doncic:\n",
            "PPG: 33.9\n",
            "RPG: 9.2\n",
            "APG: 9.8\n",
            "BPG: 0.5\n",
            "SPG: 1.4\n",
            "TPG: 4.0\n",
            "TS%: 0.617\n"
          ]
        }
      ],
      "source": [
        "# Chemin vers le fichier CSV\n",
        "chemin_fichier_csv = \"NBA Stats 202324 All Stats  NBA Player Props Tool.csv\"\n",
        "# Importer les données depuis le fichier CSV\n",
        "donnees = pd.read_csv(chemin_fichier_csv)\n",
        "input_joueur = input(\"Veuillez saisir le nom du joueur : \")\n",
        "attributs = ['PPG', 'RPG', 'APG', 'BPG', 'SPG', 'TPG', 'TS%']\n",
        "\n",
        "def trouver_joueur(input_nom, dataframe):\n",
        "    \"\"\"\n",
        "    Cette fonction recherche le meilleur résultat correspondant à l'input_nom parmi les noms de joueur disponibles dans le dataframe.\n",
        "    \"\"\"\n",
        "    meilleur_resultat = None\n",
        "    meilleur_score = 0\n",
        "    \n",
        "    # Convertir l'input en minuscules pour la recherche sans distinguer la casse\n",
        "    input_nom = input_nom.lower()\n",
        "    \n",
        "    # Parcourir les noms de joueur disponibles dans le dataframe\n",
        "    for joueur in dataframe['NAME']:\n",
        "        # Convertir le nom du joueur en minuscules pour la comparaison sans distinguer la casse\n",
        "        joueur_lower = joueur.lower()\n",
        "        \n",
        "        # Calculer le score de correspondance entre l'input et le nom du joueur\n",
        "        score = 0\n",
        "        for mot in input_nom.split():\n",
        "            if mot in joueur_lower:\n",
        "                score += 1\n",
        "        \n",
        "        # Mettre à jour le meilleur résultat\n",
        "        if score > meilleur_score:\n",
        "            meilleur_score = score\n",
        "            meilleur_resultat = joueur\n",
        "    \n",
        "    return meilleur_resultat\n",
        "\n",
        "def recup_stats_joueur(nom_joueur, attributs):\n",
        "    stats = {}\n",
        "    # On récupère les lignes correspondant au joueur recherché\n",
        "    donnees_joueur = donnees[donnees['NAME'] == nom_joueur]\n",
        "    if not donnees_joueur.empty:\n",
        "        # Boucler sur chaque attribut\n",
        "        for attribut in attributs:\n",
        "            # Filtrer: on retire les valeurs non valides (NaN)\n",
        "            valeurs_valides = donnees_joueur[attribut].dropna()\n",
        "\n",
        "            # Vérifier qu'il reste des valeurs valides après le filtrage\n",
        "            if not valeurs_valides.empty:\n",
        "                # Calculer la moyenne des valeurs valides et stocker dans le dictionnaire\n",
        "                moyenne_attribut = valeurs_valides.mean()\n",
        "                stats[attribut] = moyenne_attribut\n",
        "            else:\n",
        "                print(f\"Aucune valeur valide trouvée pour la stat: {attribut}.\")\n",
        "    else:\n",
        "        print(\"Le joueur\", nom_joueur, \"n'a pas été trouvé dans les données.\")\n",
        "    return stats\n",
        "\n",
        "# Appeler la fonction pour récupérer les statistiques du joueur\n",
        "joueur_trouve = trouver_joueur(input_joueur, donnees)\n",
        "stats_joueur = recup_stats_joueur(joueur_trouve, attributs)\n",
        "\n",
        "# Afficher les statistiques du joueur\n",
        "print(f\"Stats de {joueur_trouve}:\")\n",
        "for attribut, stat in stats_joueur.items():\n",
        "    print(f\"{attribut}: {stat}\")"
      ]
    },
    {
      "cell_type": "markdown",
      "metadata": {
        "id": "XOXpeH7uZflF"
      },
      "source": [
        "Cette fonction prend en entrée un `DataFrame` contenant les données des joueurs ainsi qu'une liste d'attributs.\n",
        "Elle récupère les données pour chaque joueur dans le `DataFrame`, calcule la moyenne de chaque attribut et renvoie un dictionnaire contenant les moyennes de chaque attribut."
      ]
    },
    {
      "cell_type": "code",
      "execution_count": 5,
      "metadata": {
        "colab": {
          "base_uri": "https://localhost:8080/"
        },
        "id": "UfCRlek7CUeS",
        "outputId": "5d65b8bd-006d-4edf-b41c-a7083f8fe37e"
      },
      "outputs": [
        {
          "name": "stdout",
          "output_type": "stream",
          "text": [
            "Moyennes globales des stats de l'ensemble des joueurs:\n",
            "PPG: 8.148858447488584\n",
            "RPG: 3.2777777777777777\n",
            "APG: 1.9528158295281584\n",
            "BPG: 0.38843226788432267\n",
            "SPG: 0.5881278538812785\n",
            "TPG: 0.9555555555555555\n",
            "TS%: 0.5372115677321156\n"
          ]
        }
      ],
      "source": [
        "def calculer_moyenne_attributs_joueurs(dataframe, attributs):\n",
        "    moyennes = {}\n",
        "\n",
        "    # Boucler sur chaque attribut\n",
        "    for attribut in attributs:\n",
        "        # Filtrer: on retire les valeurs non valides (NaN)\n",
        "        valeurs_valides = dataframe[attribut].dropna()\n",
        "\n",
        "        # Vérifier qu'il reste des valeurs valides après le filtrage\n",
        "        if len(valeurs_valides) > 0:\n",
        "            moyenne_attribut = np.mean(valeurs_valides)\n",
        "\n",
        "            # Ajouter la moyenne de l'attribut au dictionnaire des moyennes\n",
        "            moyennes[attribut] = moyenne_attribut\n",
        "        else:\n",
        "            print(f\"Aucune valeur valide trouvée pour la stat: {attribut}.\")\n",
        "\n",
        "    return moyennes\n",
        "\n",
        "# Calculer la moyenne des attributs pour l'ensemble des joueurs de la liste\n",
        "moyennes_globales = calculer_moyenne_attributs_joueurs(donnees, attributs)\n",
        "print(\"Moyennes globales des stats de l'ensemble des joueurs:\")\n",
        "for attribut, moyenne in moyennes_globales.items():\n",
        "    print(f\"{attribut}: {moyenne}\")"
      ]
    },
    {
      "cell_type": "markdown",
      "metadata": {
        "id": "saVCWeYzZ0V9"
      },
      "source": [
        "Cette fonction reprend le principe de la fonction précédente et calcule les moyennes des statistiques pour les joueurs du même poste que celui du joueur spécifié."
      ]
    },
    {
      "cell_type": "code",
      "execution_count": 7,
      "metadata": {
        "colab": {
          "base_uri": "https://localhost:8080/"
        },
        "id": "GdICvkUTDVhR",
        "outputId": "65249647-6722-461f-d161-2002d378a010"
      },
      "outputs": [
        {
          "name": "stdout",
          "output_type": "stream",
          "text": [
            "Moyennes des stats pour les joueurs du même poste que LeBron James\n",
            "PPG: 8.354999999999999\n",
            "RPG: 3.4479166666666665\n",
            "APG: 1.5441666666666667\n",
            "BPG: 0.40166666666666667\n",
            "SPG: 0.5670833333333334\n",
            "TPG: 0.91\n",
            "TS%: 0.5370124999999999\n"
          ]
        }
      ],
      "source": [
        "def moyenne_attributs_meme_poste(dataframe, nom_joueur, attributs):\n",
        "    # Filtrer les données pour n'inclure que les joueurs du même poste que celui spécifié\n",
        "    poste_joueur = dataframe.loc[dataframe['NAME'] == nom_joueur, 'POS'].iloc[0]\n",
        "    donnees_meme_poste = dataframe[dataframe['POS'] == poste_joueur]\n",
        "    # Calcul des moyennes des attributs pour les joueurs\n",
        "    moyennes_meme_poste = calculer_moyenne_attributs_joueurs(donnees_meme_poste, attributs)\n",
        "    return moyennes_meme_poste\n",
        "\n",
        "# Calculer les moyennes des attributs pour les joueurs du même poste que celui du joueur spécifié\n",
        "moyennes_meme_poste = moyenne_attributs_meme_poste(donnees, joueur_trouve, attributs)\n",
        "# Afficher les moyennes calculées\n",
        "print(\"Moyennes des stats pour les joueurs du même poste que\", joueur_trouve)\n",
        "for attribut, moyenne in moyennes_meme_poste.items():\n",
        "    print(f\"{attribut}: {moyenne}\")"
      ]
    },
    {
      "cell_type": "markdown",
      "metadata": {
        "id": "zynjbGkiXYy7"
      },
      "source": [
        "La fonction ci-dessous permet de normaliser les statistiques récupérées pour le joueur étudié ainsi que les moyennes calculées. Pour ce faire, on recherche la valeur maximale de chaque stat, tous joueurs confondus, puis on calcul le ratio entre ces deux valeurs pour obtenir un pourcentage.\n",
        "N.B.: ce traitement permet d'aboutir à des stats en % pour obtenir un diagramme homogène."
      ]
    },
    {
      "cell_type": "code",
      "execution_count": 9,
      "metadata": {
        "id": "6hQJxMm0XXa7"
      },
      "outputs": [],
      "source": [
        "def normaliser_donnees(dataframe, joueur, attributs, stats):\n",
        "    # Créer un dictionnaire pour stocker les valeurs maximales de chaque attribut\n",
        "    max_valeurs = {attribut: dataframe[attribut].max() for attribut in attributs}\n",
        "    # Normaliser les données brutes en pourcentage par rapport à la valeur maximale\n",
        "    donnees_normalisees = {}\n",
        "    for attribut in attributs:\n",
        "        # Normaliser les données brutes du joueur\n",
        "        valeur_joueur = stats[attribut]\n",
        "        pourcentage_joueur = np.round((valeur_joueur / max_valeurs[attribut]) * 100, 1)  # Arrondir à une décimale\n",
        "        # Stocker les valeurs normalisées dans le dictionnaire\n",
        "        donnees_normalisees[attribut] = pourcentage_joueur\n",
        "    return donnees_normalisees\n",
        "\n",
        "# Utilisation de la fonction pour normaliser les données pour le joueur spécifié\n",
        "donnees_normalisees_joueur = normaliser_donnees(donnees, joueur_trouve, attributs, stats_joueur)\n",
        "donnees_normalisees_globales = normaliser_donnees(donnees, joueur_trouve, attributs, moyennes_globales)\n",
        "donnees_normalisees_poste = normaliser_donnees(donnees, joueur_trouve, attributs, moyennes_meme_poste)"
      ]
    },
    {
      "cell_type": "markdown",
      "metadata": {
        "id": "k-jESuYnaFhb"
      },
      "source": [
        "\n",
        "\n",
        "---\n",
        "\n",
        "\n",
        "La fonction suivante permet la génération d'un diagramme de Kiviat représentant les statistiques normalisées du joueur séléctionné ainsi que celles des joueurs de toute la ligue, et celles des joueurs du même poste (moyennes). L'objectif est de proposer une comparaison pertinente pour un joueur.\n",
        "\n",
        "**Remarque :** *Les statistiques affichées sont représentées en % et ne représentent donc pas les valeurs réelles.*"
      ]
    },
    {
      "cell_type": "code",
      "execution_count": 11,
      "metadata": {
        "colab": {
          "base_uri": "https://localhost:8080/",
          "height": 542
        },
        "id": "_RLEt8lzEUKm",
        "outputId": "875a823e-e76e-4be3-9bd6-8ac3cbdb28b6"
      },
      "outputs": [
        {
          "data": {
            "application/vnd.plotly.v1+json": {
              "config": {
                "plotlyServerURL": "https://plot.ly"
              },
              "data": [
                {
                  "fill": "toself",
                  "line": {
                    "color": "blue"
                  },
                  "name": "LeBron James",
                  "r": [
                    74.1,
                    53.3,
                    76.1,
                    13.9,
                    61.9,
                    77.3,
                    68.7
                  ],
                  "theta": [
                    "PPG",
                    "RPG",
                    "APG",
                    "BPG",
                    "SPG",
                    "TPG",
                    "TS%"
                  ],
                  "type": "scatterpolar"
                },
                {
                  "fill": "toself",
                  "line": {
                    "color": "green"
                  },
                  "name": "Moyenne globale",
                  "r": [
                    23.5,
                    23.9,
                    17.9,
                    10.8,
                    28,
                    21.7,
                    58.6
                  ],
                  "theta": [
                    "PPG",
                    "RPG",
                    "APG",
                    "BPG",
                    "SPG",
                    "TPG",
                    "TS%"
                  ],
                  "type": "scatterpolar"
                },
                {
                  "fill": "toself",
                  "line": {
                    "color": "orange"
                  },
                  "name": "Moyenne du poste",
                  "r": [
                    24.1,
                    25.2,
                    14.2,
                    11.2,
                    27,
                    20.7,
                    58.6
                  ],
                  "theta": [
                    "PPG",
                    "RPG",
                    "APG",
                    "BPG",
                    "SPG",
                    "TPG",
                    "TS%"
                  ],
                  "type": "scatterpolar"
                }
              ],
              "layout": {
                "polar": {
                  "radialaxis": {
                    "range": [
                      0,
                      100
                    ],
                    "visible": true
                  }
                },
                "template": {
                  "data": {
                    "bar": [
                      {
                        "error_x": {
                          "color": "#2a3f5f"
                        },
                        "error_y": {
                          "color": "#2a3f5f"
                        },
                        "marker": {
                          "line": {
                            "color": "#E5ECF6",
                            "width": 0.5
                          },
                          "pattern": {
                            "fillmode": "overlay",
                            "size": 10,
                            "solidity": 0.2
                          }
                        },
                        "type": "bar"
                      }
                    ],
                    "barpolar": [
                      {
                        "marker": {
                          "line": {
                            "color": "#E5ECF6",
                            "width": 0.5
                          },
                          "pattern": {
                            "fillmode": "overlay",
                            "size": 10,
                            "solidity": 0.2
                          }
                        },
                        "type": "barpolar"
                      }
                    ],
                    "carpet": [
                      {
                        "aaxis": {
                          "endlinecolor": "#2a3f5f",
                          "gridcolor": "white",
                          "linecolor": "white",
                          "minorgridcolor": "white",
                          "startlinecolor": "#2a3f5f"
                        },
                        "baxis": {
                          "endlinecolor": "#2a3f5f",
                          "gridcolor": "white",
                          "linecolor": "white",
                          "minorgridcolor": "white",
                          "startlinecolor": "#2a3f5f"
                        },
                        "type": "carpet"
                      }
                    ],
                    "choropleth": [
                      {
                        "colorbar": {
                          "outlinewidth": 0,
                          "ticks": ""
                        },
                        "type": "choropleth"
                      }
                    ],
                    "contour": [
                      {
                        "colorbar": {
                          "outlinewidth": 0,
                          "ticks": ""
                        },
                        "colorscale": [
                          [
                            0,
                            "#0d0887"
                          ],
                          [
                            0.1111111111111111,
                            "#46039f"
                          ],
                          [
                            0.2222222222222222,
                            "#7201a8"
                          ],
                          [
                            0.3333333333333333,
                            "#9c179e"
                          ],
                          [
                            0.4444444444444444,
                            "#bd3786"
                          ],
                          [
                            0.5555555555555556,
                            "#d8576b"
                          ],
                          [
                            0.6666666666666666,
                            "#ed7953"
                          ],
                          [
                            0.7777777777777778,
                            "#fb9f3a"
                          ],
                          [
                            0.8888888888888888,
                            "#fdca26"
                          ],
                          [
                            1,
                            "#f0f921"
                          ]
                        ],
                        "type": "contour"
                      }
                    ],
                    "contourcarpet": [
                      {
                        "colorbar": {
                          "outlinewidth": 0,
                          "ticks": ""
                        },
                        "type": "contourcarpet"
                      }
                    ],
                    "heatmap": [
                      {
                        "colorbar": {
                          "outlinewidth": 0,
                          "ticks": ""
                        },
                        "colorscale": [
                          [
                            0,
                            "#0d0887"
                          ],
                          [
                            0.1111111111111111,
                            "#46039f"
                          ],
                          [
                            0.2222222222222222,
                            "#7201a8"
                          ],
                          [
                            0.3333333333333333,
                            "#9c179e"
                          ],
                          [
                            0.4444444444444444,
                            "#bd3786"
                          ],
                          [
                            0.5555555555555556,
                            "#d8576b"
                          ],
                          [
                            0.6666666666666666,
                            "#ed7953"
                          ],
                          [
                            0.7777777777777778,
                            "#fb9f3a"
                          ],
                          [
                            0.8888888888888888,
                            "#fdca26"
                          ],
                          [
                            1,
                            "#f0f921"
                          ]
                        ],
                        "type": "heatmap"
                      }
                    ],
                    "heatmapgl": [
                      {
                        "colorbar": {
                          "outlinewidth": 0,
                          "ticks": ""
                        },
                        "colorscale": [
                          [
                            0,
                            "#0d0887"
                          ],
                          [
                            0.1111111111111111,
                            "#46039f"
                          ],
                          [
                            0.2222222222222222,
                            "#7201a8"
                          ],
                          [
                            0.3333333333333333,
                            "#9c179e"
                          ],
                          [
                            0.4444444444444444,
                            "#bd3786"
                          ],
                          [
                            0.5555555555555556,
                            "#d8576b"
                          ],
                          [
                            0.6666666666666666,
                            "#ed7953"
                          ],
                          [
                            0.7777777777777778,
                            "#fb9f3a"
                          ],
                          [
                            0.8888888888888888,
                            "#fdca26"
                          ],
                          [
                            1,
                            "#f0f921"
                          ]
                        ],
                        "type": "heatmapgl"
                      }
                    ],
                    "histogram": [
                      {
                        "marker": {
                          "pattern": {
                            "fillmode": "overlay",
                            "size": 10,
                            "solidity": 0.2
                          }
                        },
                        "type": "histogram"
                      }
                    ],
                    "histogram2d": [
                      {
                        "colorbar": {
                          "outlinewidth": 0,
                          "ticks": ""
                        },
                        "colorscale": [
                          [
                            0,
                            "#0d0887"
                          ],
                          [
                            0.1111111111111111,
                            "#46039f"
                          ],
                          [
                            0.2222222222222222,
                            "#7201a8"
                          ],
                          [
                            0.3333333333333333,
                            "#9c179e"
                          ],
                          [
                            0.4444444444444444,
                            "#bd3786"
                          ],
                          [
                            0.5555555555555556,
                            "#d8576b"
                          ],
                          [
                            0.6666666666666666,
                            "#ed7953"
                          ],
                          [
                            0.7777777777777778,
                            "#fb9f3a"
                          ],
                          [
                            0.8888888888888888,
                            "#fdca26"
                          ],
                          [
                            1,
                            "#f0f921"
                          ]
                        ],
                        "type": "histogram2d"
                      }
                    ],
                    "histogram2dcontour": [
                      {
                        "colorbar": {
                          "outlinewidth": 0,
                          "ticks": ""
                        },
                        "colorscale": [
                          [
                            0,
                            "#0d0887"
                          ],
                          [
                            0.1111111111111111,
                            "#46039f"
                          ],
                          [
                            0.2222222222222222,
                            "#7201a8"
                          ],
                          [
                            0.3333333333333333,
                            "#9c179e"
                          ],
                          [
                            0.4444444444444444,
                            "#bd3786"
                          ],
                          [
                            0.5555555555555556,
                            "#d8576b"
                          ],
                          [
                            0.6666666666666666,
                            "#ed7953"
                          ],
                          [
                            0.7777777777777778,
                            "#fb9f3a"
                          ],
                          [
                            0.8888888888888888,
                            "#fdca26"
                          ],
                          [
                            1,
                            "#f0f921"
                          ]
                        ],
                        "type": "histogram2dcontour"
                      }
                    ],
                    "mesh3d": [
                      {
                        "colorbar": {
                          "outlinewidth": 0,
                          "ticks": ""
                        },
                        "type": "mesh3d"
                      }
                    ],
                    "parcoords": [
                      {
                        "line": {
                          "colorbar": {
                            "outlinewidth": 0,
                            "ticks": ""
                          }
                        },
                        "type": "parcoords"
                      }
                    ],
                    "pie": [
                      {
                        "automargin": true,
                        "type": "pie"
                      }
                    ],
                    "scatter": [
                      {
                        "fillpattern": {
                          "fillmode": "overlay",
                          "size": 10,
                          "solidity": 0.2
                        },
                        "type": "scatter"
                      }
                    ],
                    "scatter3d": [
                      {
                        "line": {
                          "colorbar": {
                            "outlinewidth": 0,
                            "ticks": ""
                          }
                        },
                        "marker": {
                          "colorbar": {
                            "outlinewidth": 0,
                            "ticks": ""
                          }
                        },
                        "type": "scatter3d"
                      }
                    ],
                    "scattercarpet": [
                      {
                        "marker": {
                          "colorbar": {
                            "outlinewidth": 0,
                            "ticks": ""
                          }
                        },
                        "type": "scattercarpet"
                      }
                    ],
                    "scattergeo": [
                      {
                        "marker": {
                          "colorbar": {
                            "outlinewidth": 0,
                            "ticks": ""
                          }
                        },
                        "type": "scattergeo"
                      }
                    ],
                    "scattergl": [
                      {
                        "marker": {
                          "colorbar": {
                            "outlinewidth": 0,
                            "ticks": ""
                          }
                        },
                        "type": "scattergl"
                      }
                    ],
                    "scattermapbox": [
                      {
                        "marker": {
                          "colorbar": {
                            "outlinewidth": 0,
                            "ticks": ""
                          }
                        },
                        "type": "scattermapbox"
                      }
                    ],
                    "scatterpolar": [
                      {
                        "marker": {
                          "colorbar": {
                            "outlinewidth": 0,
                            "ticks": ""
                          }
                        },
                        "type": "scatterpolar"
                      }
                    ],
                    "scatterpolargl": [
                      {
                        "marker": {
                          "colorbar": {
                            "outlinewidth": 0,
                            "ticks": ""
                          }
                        },
                        "type": "scatterpolargl"
                      }
                    ],
                    "scatterternary": [
                      {
                        "marker": {
                          "colorbar": {
                            "outlinewidth": 0,
                            "ticks": ""
                          }
                        },
                        "type": "scatterternary"
                      }
                    ],
                    "surface": [
                      {
                        "colorbar": {
                          "outlinewidth": 0,
                          "ticks": ""
                        },
                        "colorscale": [
                          [
                            0,
                            "#0d0887"
                          ],
                          [
                            0.1111111111111111,
                            "#46039f"
                          ],
                          [
                            0.2222222222222222,
                            "#7201a8"
                          ],
                          [
                            0.3333333333333333,
                            "#9c179e"
                          ],
                          [
                            0.4444444444444444,
                            "#bd3786"
                          ],
                          [
                            0.5555555555555556,
                            "#d8576b"
                          ],
                          [
                            0.6666666666666666,
                            "#ed7953"
                          ],
                          [
                            0.7777777777777778,
                            "#fb9f3a"
                          ],
                          [
                            0.8888888888888888,
                            "#fdca26"
                          ],
                          [
                            1,
                            "#f0f921"
                          ]
                        ],
                        "type": "surface"
                      }
                    ],
                    "table": [
                      {
                        "cells": {
                          "fill": {
                            "color": "#EBF0F8"
                          },
                          "line": {
                            "color": "white"
                          }
                        },
                        "header": {
                          "fill": {
                            "color": "#C8D4E3"
                          },
                          "line": {
                            "color": "white"
                          }
                        },
                        "type": "table"
                      }
                    ]
                  },
                  "layout": {
                    "annotationdefaults": {
                      "arrowcolor": "#2a3f5f",
                      "arrowhead": 0,
                      "arrowwidth": 1
                    },
                    "autotypenumbers": "strict",
                    "coloraxis": {
                      "colorbar": {
                        "outlinewidth": 0,
                        "ticks": ""
                      }
                    },
                    "colorscale": {
                      "diverging": [
                        [
                          0,
                          "#8e0152"
                        ],
                        [
                          0.1,
                          "#c51b7d"
                        ],
                        [
                          0.2,
                          "#de77ae"
                        ],
                        [
                          0.3,
                          "#f1b6da"
                        ],
                        [
                          0.4,
                          "#fde0ef"
                        ],
                        [
                          0.5,
                          "#f7f7f7"
                        ],
                        [
                          0.6,
                          "#e6f5d0"
                        ],
                        [
                          0.7,
                          "#b8e186"
                        ],
                        [
                          0.8,
                          "#7fbc41"
                        ],
                        [
                          0.9,
                          "#4d9221"
                        ],
                        [
                          1,
                          "#276419"
                        ]
                      ],
                      "sequential": [
                        [
                          0,
                          "#0d0887"
                        ],
                        [
                          0.1111111111111111,
                          "#46039f"
                        ],
                        [
                          0.2222222222222222,
                          "#7201a8"
                        ],
                        [
                          0.3333333333333333,
                          "#9c179e"
                        ],
                        [
                          0.4444444444444444,
                          "#bd3786"
                        ],
                        [
                          0.5555555555555556,
                          "#d8576b"
                        ],
                        [
                          0.6666666666666666,
                          "#ed7953"
                        ],
                        [
                          0.7777777777777778,
                          "#fb9f3a"
                        ],
                        [
                          0.8888888888888888,
                          "#fdca26"
                        ],
                        [
                          1,
                          "#f0f921"
                        ]
                      ],
                      "sequentialminus": [
                        [
                          0,
                          "#0d0887"
                        ],
                        [
                          0.1111111111111111,
                          "#46039f"
                        ],
                        [
                          0.2222222222222222,
                          "#7201a8"
                        ],
                        [
                          0.3333333333333333,
                          "#9c179e"
                        ],
                        [
                          0.4444444444444444,
                          "#bd3786"
                        ],
                        [
                          0.5555555555555556,
                          "#d8576b"
                        ],
                        [
                          0.6666666666666666,
                          "#ed7953"
                        ],
                        [
                          0.7777777777777778,
                          "#fb9f3a"
                        ],
                        [
                          0.8888888888888888,
                          "#fdca26"
                        ],
                        [
                          1,
                          "#f0f921"
                        ]
                      ]
                    },
                    "colorway": [
                      "#636efa",
                      "#EF553B",
                      "#00cc96",
                      "#ab63fa",
                      "#FFA15A",
                      "#19d3f3",
                      "#FF6692",
                      "#B6E880",
                      "#FF97FF",
                      "#FECB52"
                    ],
                    "font": {
                      "color": "#2a3f5f"
                    },
                    "geo": {
                      "bgcolor": "white",
                      "lakecolor": "white",
                      "landcolor": "#E5ECF6",
                      "showlakes": true,
                      "showland": true,
                      "subunitcolor": "white"
                    },
                    "hoverlabel": {
                      "align": "left"
                    },
                    "hovermode": "closest",
                    "mapbox": {
                      "style": "light"
                    },
                    "paper_bgcolor": "white",
                    "plot_bgcolor": "#E5ECF6",
                    "polar": {
                      "angularaxis": {
                        "gridcolor": "white",
                        "linecolor": "white",
                        "ticks": ""
                      },
                      "bgcolor": "#E5ECF6",
                      "radialaxis": {
                        "gridcolor": "white",
                        "linecolor": "white",
                        "ticks": ""
                      }
                    },
                    "scene": {
                      "xaxis": {
                        "backgroundcolor": "#E5ECF6",
                        "gridcolor": "white",
                        "gridwidth": 2,
                        "linecolor": "white",
                        "showbackground": true,
                        "ticks": "",
                        "zerolinecolor": "white"
                      },
                      "yaxis": {
                        "backgroundcolor": "#E5ECF6",
                        "gridcolor": "white",
                        "gridwidth": 2,
                        "linecolor": "white",
                        "showbackground": true,
                        "ticks": "",
                        "zerolinecolor": "white"
                      },
                      "zaxis": {
                        "backgroundcolor": "#E5ECF6",
                        "gridcolor": "white",
                        "gridwidth": 2,
                        "linecolor": "white",
                        "showbackground": true,
                        "ticks": "",
                        "zerolinecolor": "white"
                      }
                    },
                    "shapedefaults": {
                      "line": {
                        "color": "#2a3f5f"
                      }
                    },
                    "ternary": {
                      "aaxis": {
                        "gridcolor": "white",
                        "linecolor": "white",
                        "ticks": ""
                      },
                      "baxis": {
                        "gridcolor": "white",
                        "linecolor": "white",
                        "ticks": ""
                      },
                      "bgcolor": "#E5ECF6",
                      "caxis": {
                        "gridcolor": "white",
                        "linecolor": "white",
                        "ticks": ""
                      }
                    },
                    "title": {
                      "x": 0.05
                    },
                    "xaxis": {
                      "automargin": true,
                      "gridcolor": "white",
                      "linecolor": "white",
                      "ticks": "",
                      "title": {
                        "standoff": 15
                      },
                      "zerolinecolor": "white",
                      "zerolinewidth": 2
                    },
                    "yaxis": {
                      "automargin": true,
                      "gridcolor": "white",
                      "linecolor": "white",
                      "ticks": "",
                      "title": {
                        "standoff": 15
                      },
                      "zerolinecolor": "white",
                      "zerolinewidth": 2
                    }
                  }
                },
                "title": {
                  "text": "Comparaison des stats pour LeBron James"
                }
              }
            }
          },
          "metadata": {},
          "output_type": "display_data"
        }
      ],
      "source": [
        "import plotly.graph_objects as go\n",
        "\n",
        "def diagramme_kiviat(data_joueur, data_moyenne_globale, data_moyenne_poste, joueur):\n",
        "    \"\"\"\n",
        "    Cette fonction crée un diagramme de Kiviat pour visualiser les données normalisées des attributs.\n",
        "    \"\"\"\n",
        "    # Extraire les noms des attributs\n",
        "    attributs = list(data_joueur.keys())\n",
        "\n",
        "    # Extraire les valeurs normalisées pour le joueur, la moyenne globale et la moyenne du poste\n",
        "    valeurs_joueur = list(data_joueur.values())\n",
        "    valeurs_moyenne_globale = list(data_moyenne_globale.values())\n",
        "    valeurs_moyenne_poste = list(data_moyenne_poste.values())\n",
        "\n",
        "    # Créer un diagramme de Kiviat avec Plotly\n",
        "    fig = go.Figure()\n",
        "\n",
        "    # Ajouter les traces pour le joueur, la moyenne globale et la moyenne du poste\n",
        "    fig.add_trace(go.Scatterpolar(\n",
        "        r=valeurs_joueur,\n",
        "        theta=attributs,\n",
        "        fill='toself',\n",
        "        name=f'{joueur}',\n",
        "        line=dict(color='blue')\n",
        "    ))\n",
        "    fig.add_trace(go.Scatterpolar(\n",
        "        r=valeurs_moyenne_globale,\n",
        "        theta=attributs,\n",
        "        fill='toself',\n",
        "        name='Moyenne globale',\n",
        "        line=dict(color='green')\n",
        "    ))\n",
        "    fig.add_trace(go.Scatterpolar(\n",
        "        r=valeurs_moyenne_poste,\n",
        "        theta=attributs,\n",
        "        fill='toself',\n",
        "        name='Moyenne du poste',\n",
        "        line=dict(color='orange')\n",
        "    ))\n",
        "\n",
        "    # Ajouter un titre et ajuster la mise en page\n",
        "    fig.update_layout(\n",
        "        title=f\"Comparaison des stats pour {joueur}\",\n",
        "        polar=dict(\n",
        "            radialaxis=dict(\n",
        "                visible=True,\n",
        "                range=[0, 100]  # Plage de l'axe radial en pourcentage\n",
        "            )\n",
        "        )\n",
        "    )\n",
        "\n",
        "    # Afficher le diagramme\n",
        "    fig.show()\n",
        "\n",
        "# Utiliser la fonction pour créer le diagramme de Kiviat\n",
        "diagramme_kiviat(donnees_normalisees_joueur, donnees_normalisees_globales, donnees_normalisees_poste, joueur_trouve)"
      ]
    },
    {
      "cell_type": "code",
      "execution_count": 12,
      "metadata": {},
      "outputs": [
        {
          "name": "stdout",
          "output_type": "stream",
          "text": [
            "Équipe de LeBron James: 14    Lal\n",
            "Name: TEAM, dtype: object\n",
            "Les joueurs de l'équipe de  LeBron James sont les suivants :\n",
            "14            LeBron James\n",
            "18           Anthony Davis\n",
            "68        D'Angelo Russell\n",
            "87           Austin Reaves\n",
            "127          Rui Hachimura\n",
            "222         Taurean Prince\n",
            "293         Christian Wood\n",
            "306      Spencer Dinwiddie\n",
            "356            Cam Reddish\n",
            "371      Jarred Vanderbilt\n",
            "422           Jaxson Hayes\n",
            "431           Max Christie\n",
            "501           Gabe Vincent\n",
            "565            D'Moi Hodge\n",
            "581    Jalen Hood-Schifino\n",
            "588        Colin Castleton\n",
            "591          Dylan Windler\n",
            "602            Skylar Mays\n",
            "618             Alex Fudge\n",
            "638          Maxwell Lewis\n",
            "639        Harry Giles III\n",
            "Name: NAME, dtype: object\n",
            "Les cinq joueurs ayant le temps de jeu moyen le plus élevé dans l'équipe sont :\n",
            "                 NAME   MPG\n",
            "18      Anthony Davis  35.5\n",
            "14       LeBron James  35.3\n",
            "68   D'Angelo Russell  32.7\n",
            "87      Austin Reaves  32.1\n",
            "222    Taurean Prince  27.0\n"
          ]
        }
      ],
      "source": [
        "# Trouver l'équipe du joueur\n",
        "equipe_joueur = donnees[donnees['NAME'] == joueur_trouve]\n",
        "equipe_joueur = equipe_joueur['TEAM']\n",
        "# Afficher l'équipe du joueur\n",
        "print(\"Équipe de\", joueur_trouve + \":\", equipe_joueur)\n",
        "\n",
        "\n",
        "chemin_equipe_csv = \"NBA Stats 202223 All Stats  NBA Player Props Tool.csv\"\n",
        "# Importer les données depuis le fichier team CSV\n",
        "team = pd.read_csv(chemin_equipe_csv)\n",
        "valeurs = ['PPG', 'oEFF', 'dEFF', 'W', 'L', 'pDIFF']\n",
        "\n",
        "\n",
        "# Récupérer les joueurs par équipe\n",
        "def meme_equipe(dataframe, nom_joueur):\n",
        "    # Filtrer les données pour n'inclure que les joueurs de la même équipe que celui spécifié\n",
        "    equipe_joueur = dataframe.loc[dataframe['NAME'] == nom_joueur, 'TEAM'].iloc[0]\n",
        "    donnees_meme_equipe = dataframe[dataframe['TEAM'] == equipe_joueur]\n",
        "    return donnees_meme_equipe\n",
        "# Afficher les noms des joueurs de la même équipe que celui spécifié\n",
        "print(\"Les joueurs de l'équipe de \", joueur_trouve, \"sont les suivants :\")\n",
        "equipe_joueur = meme_equipe(donnees, joueur_trouve)\n",
        "equipe_joueur = equipe_joueur['NAME']\n",
        "print(equipe_joueur)\n",
        "\n",
        "\n",
        "def cinq_majeur(dataframe, nom_joueur):\n",
        "    # Récupérer les données des joueurs de la même équipe que celui spécifié\n",
        "    equipe = meme_equipe(dataframe, nom_joueur)\n",
        "    # Trier les joueurs par ordre décroissant de temps de jeu moyen (MPG)\n",
        "    equipe_triee = equipe.sort_values(by='MPG', ascending=False)\n",
        "    # Sélectionner les cinq premiers joueurs avec le temps de jeu moyen le plus élevé\n",
        "    cinq_majeur = equipe_triee.head(5)\n",
        "    return cinq_majeur\n",
        "cinq_joueurs = cinq_majeur(donnees, joueur_trouve)\n",
        "print(\"Les cinq joueurs ayant le temps de jeu moyen le plus élevé dans l'équipe sont :\")\n",
        "print(cinq_joueurs[['NAME', 'MPG']])"
      ]
    },
    {
      "cell_type": "markdown",
      "metadata": {},
      "source": [
        "Cette fonction récupère les joueurs d'une équipe spécifique à partir des données."
      ]
    },
    {
      "cell_type": "code",
      "execution_count": 13,
      "metadata": {},
      "outputs": [
        {
          "name": "stdout",
          "output_type": "stream",
          "text": [
            "Les joueurs de l'équipe Miami Heat sont les suivants :\n",
            "35          Jimmy Butler\n",
            "52           Bam Adebayo\n",
            "56           Tyler Herro\n",
            "161            Max Strus\n",
            "166           Kyle Lowry\n",
            "182       Victor Oladipo\n",
            "211         Caleb Martin\n",
            "220         Gabe Vincent\n",
            "275           Kevin Love\n",
            "334          Cody Zeller\n",
            "340      Duncan Robinson\n",
            "365       Dewayne Dedmon\n",
            "381         Nikola Jovic\n",
            "385           Jamal Cain\n",
            "436    Haywood Highsmith\n",
            "441       Omer Yurtseven\n",
            "465        Udonis Haslem\n",
            "469       Jamaree Bouyea\n",
            "481     Orlando Robinson\n",
            "548            Dru Smith\n",
            "Name: NAME, dtype: object\n"
          ]
        }
      ],
      "source": [
        "correspondance_equipes = {\n",
        "    'Phi': 'Philadelphia 76ers',\n",
        "    'Dal': 'Dallas Mavericks',\n",
        "    'Por': 'Portland Trail Blazers',\n",
        "    'Okc': 'Oklahoma City Thunder',\n",
        "    'Mil': 'Milwaukee Bucks',\n",
        "    'Bos': 'Boston Celtics',\n",
        "    'Bro': 'Brooklyn Nets',\n",
        "    'Gol': 'Golden State Warriors',\n",
        "    'Lal': 'Los Angeles Lakers',\n",
        "    'Cle': 'Cleveland Cavaliers',\n",
        "    'Pho': 'Phoenix Suns',\n",
        "    'Mem': 'Memphis Grizzlies',\n",
        "    'Atl': 'Atlanta Hawks',\n",
        "    'Nor': 'New Orleans Pelicans',\n",
        "    'Uta': 'Utah Jazz',\n",
        "    'Nyk': 'New York Knicks',\n",
        "    'Sac': 'Sacramento Kings',\n",
        "    'Chi': 'Chicago Bulls',\n",
        "    'Min': 'Minnesota Timberwolves',\n",
        "    'Den': 'Denver Nuggets',\n",
        "    'Tor': 'Toronto Raptors',\n",
        "    'Lac': 'Los Angeles Clippers',\n",
        "    'Cha': 'Charlotte Hornets',\n",
        "    'Was': 'Washington Wizards',\n",
        "    'Mia': 'Miami Heat',\n",
        "    'Hou': 'Houston Rockets',\n",
        "    'San': 'San Antonio Spurs',\n",
        "    'Det': 'Detroit Pistons',\n",
        "    'Ind': 'Indiana Pacers',\n",
        "    'Orl': 'Orlando Magic'\n",
        "}\n",
        "\n",
        "def trouver_equipe(input_nom, equipes_disponibles):\n",
        "    \"\"\"\n",
        "    Cette fonction recherche le meilleur résultat correspondant à l'input_nom parmi les noms d'équipe disponibles.\n",
        "    \"\"\"\n",
        "    meilleur_resultat = None\n",
        "    meilleur_score = 0\n",
        "    \n",
        "    # Convertir l'input en minuscules pour la recherche sans distinguer la casse\n",
        "    input_nom = input_nom.lower()\n",
        "    \n",
        "    # Parcourir les noms d'équipe disponibles\n",
        "    for equipe_abrege in equipes_disponibles:\n",
        "        equipe_complet = correspondance_equipes.get(equipe_abrege)\n",
        "        if not equipe_complet:\n",
        "            continue\n",
        "        \n",
        "        # Convertir le nom de l'équipe en minuscules pour la comparaison sans distinguer la casse\n",
        "        equipe_lower = equipe_complet.lower()\n",
        "        \n",
        "        # Calculer le score de correspondance entre l'input et le nom de l'équipe\n",
        "        score = 0\n",
        "        for mot in input_nom.split():\n",
        "            if mot in equipe_lower:\n",
        "                score += 1\n",
        "        \n",
        "        # Mettre à jour le meilleur résultat\n",
        "        if score > meilleur_score:\n",
        "            meilleur_score = score\n",
        "            meilleur_resultat = equipe_abrege\n",
        "    \n",
        "    return meilleur_resultat\n",
        "\n",
        "\n",
        "def liste_equipes(dataframe):\n",
        "    # Récupérer les noms uniques des équipes dans la colonne \"Equipe\"\n",
        "    equipes = dataframe['TEAM'].unique().tolist()\n",
        "    return equipes\n",
        "\n",
        "def joueurs_par_equipe(dataframe, nom_equipe):\n",
        "    # Filtrer les données pour n'inclure que les joueurs de l'équipe spécifiée\n",
        "    joueurs_equipe = dataframe[dataframe['TEAM'] == nom_equipe]\n",
        "    return joueurs_equipe\n",
        "\n",
        "\n",
        "equipes_disponibles = liste_equipes(team)\n",
        "input_nom = input(\"Entrez le nom de l'équipe : \")\n",
        "equipe_trouvee = trouver_equipe(input_nom, equipes_disponibles)\n",
        "joueurs = joueurs_par_equipe(team, equipe_trouvee)\n",
        "print(f\"Les joueurs de l'équipe {correspondance_equipes.get(equipe_trouvee)} sont les suivants :\")\n",
        "print(joueurs['NAME'])"
      ]
    },
    {
      "cell_type": "markdown",
      "metadata": {},
      "source": [
        "Voici ci-dessous un calcul du gamescore basé sur la formule de John Hollinger:\n",
        "\n",
        "| Statistique attendue          | Variable correspondante dans les données   | Description                                                                         |\n",
        "|-------------------------------|--------------------------------------------|-------------------------------------------------------------------------------------|\n",
        "| pts (float)                   | PPG (Points Per Game)                      | Points marqués par le joueur.                                                      |\n",
        "| fg (float)                    | FG (Field Goals Made)                      | Paniers réussis par le joueur.                                                     |\n",
        "| fga (float)                   | FGA (Field Goals Attempted)                | Tentatives de panier du joueur.                                                    |\n",
        "| fta (float)                   | FTA (Free Throws Attempted)                | Lancers francs tentés par le joueur.                                               |\n",
        "| ft (float)                    | FT (Free Throws Made)                      | Lancers francs réussis par le joueur.                                               |\n",
        "| orb (float)                   | ORB (Offensive Rebounds)                   | Rebonds offensifs du joueur.                                                       |\n",
        "| drb (float)                   | DRB (Defensive Rebounds)                   | Rebonds défensifs du joueur.                                                       |\n",
        "| stl (float)                   | SPG (Steals Per Game)                      | Interceptions réalisées par le joueur.                                              |\n",
        "| ast (float)                   | APG (Assists Per Game)                     | Passes décisives du joueur.                                                         |\n",
        "| blk (float)                   | BPG (Blocks Per Game)                      | Contres réalisés par le joueur.                                                     |\n",
        "| pf (float)                    | PF (Personal Fouls)                        | Fautes personnelles commises par le joueur.                                         |\n",
        "| tov (float)                   | TPG (Turnovers Per Game)                   | Balles perdues par le joueur.                                                       |\n",
        "\n",
        "Par ailleurs, on supposeras:\n",
        "\n",
        "$$ \\text{FGA} = \\text{2PA} + \\text{3PA}$$\n",
        "\n",
        "Cependant, il est important de noter que dans certains cas, une tentative de tir à trois points peut être suivie d'une faute, ce qui conduirait à une tentative de lancer franc supplémentaire (FTA). Dans de tels cas, la tentative de tir à trois points ne serait pas comptabilisée dans les FGA, mais elle serait incluse dans les FTA."
      ]
    },
    {
      "cell_type": "code",
      "execution_count": 68,
      "metadata": {},
      "outputs": [
        {
          "name": "stdout",
          "output_type": "stream",
          "text": [
            "Stats pour Luka Doncic:\n",
            "Points : 2138.0\n",
            "Pourcentage de réussite aux tirs : 0.496\n",
            "Paniers réussis : 718.704\n",
            "Paniers tentés : 1449.0\n",
            "Pourcentage de réussite aux lancers francs : 0.742\n",
            "Lancers francs réussis : 515.0\n",
            "Lancers francs tentés : 694.0\n",
            "Rebonds offensifs : 54.0\n",
            "Rebonds défensifs : 515.0\n",
            "Interceptions : 90.0\n",
            "Passes décisives : 529.0\n",
            "Contres : 33.0\n",
            "Fautes personnelles : 166.0\n",
            "Balles perdues : 236.0\n",
            "Le Game Score de Luka Doncic est de : 1712.8816000000006\n"
          ]
        }
      ],
      "source": [
        "def calculate_game_score(pts, fg, fga, ftm, fta, orb, drb, stl, ast, blk, pf, tov):\n",
        "    game_score = (\n",
        "        pts + 0.4 * fg + 0.7 * orb + 0.3 * drb + stl + 0.7 * ast + 0.7 * blk\n",
        "        - 0.7 * fga - 0.4 * (fta-ftm) - 0.4 * pf - tov\n",
        "    )\n",
        "    return game_score\n",
        "def game_score_joueur(dataframe, dataframe2, nom_joueur):\n",
        "    # Récupérer les données du joueur spécifié\n",
        "    joueur = dataframe[dataframe['NAME'] == nom_joueur]\n",
        "    joueur_bis = dataframe2[dataframe2['Player'] == nom_joueur]\n",
        "    if joueur.empty or joueur_bis.empty:\n",
        "        print(\"Le joueur spécifié n'a pas été trouvé.\")\n",
        "        return None\n",
        "    \n",
        "    \n",
        "    # Convertir les valeurs pertinentes en float ou int\n",
        "    pts = float(joueur_bis['PTS'].iloc[0])\n",
        "    fga = float(joueur_bis['FGA'].iloc[0])\n",
        "    fg_percent = float(joueur_bis['FG%'].iloc[0])/100\n",
        "    ftm = float(joueur_bis['FTM'].iloc[0])\n",
        "    fta = float(joueur_bis['FTA'].iloc[0])\n",
        "    ft_percent = float(joueur_bis['FT%'].iloc[0])/100\n",
        "    orb = float(joueur_bis['OREB'].iloc[0])\n",
        "    drb = float(joueur_bis['DREB'].iloc[0])\n",
        "    stl = float(joueur_bis['STL'].iloc[0])\n",
        "    ast = float(joueur_bis['AST'].iloc[0])\n",
        "    blk = float(joueur_bis['BLK'].iloc[0])\n",
        "    pf = float(joueur_bis['PF'].iloc[0])\n",
        "    tov = float(joueur_bis['TOV'].iloc[0])\n",
        "    fg = fg_percent*fga\n",
        "    # Afficher les statistiques du joueur\n",
        "    # TODO : Supprimer plus tard cette partie\n",
        "    print(f\"Stats pour {nom_joueur}:\")\n",
        "    print(f\"Points : {pts}\")\n",
        "    print(f\"Pourcentage de réussite aux tirs : {fg_percent}\")\n",
        "    print(f\"Paniers réussis : {fg}\")\n",
        "    print(f\"Paniers tentés : {fga}\")\n",
        "    print(f\"Pourcentage de réussite aux lancers francs : {ft_percent}\")\n",
        "    print(f\"Lancers francs réussis : {ftm}\")\n",
        "    print(f\"Lancers francs tentés : {fta}\")\n",
        "    print(f\"Rebonds offensifs : {orb}\")\n",
        "    print(f\"Rebonds défensifs : {drb}\")\n",
        "    print(f\"Interceptions : {stl}\")\n",
        "    print(f\"Passes décisives : {ast}\")\n",
        "    print(f\"Contres : {blk}\")\n",
        "    print(f\"Fautes personnelles : {pf}\")\n",
        "    print(f\"Balles perdues : {tov}\")\n",
        "\n",
        "    # Calcul du Game Score\n",
        "    game_score = calculate_game_score(pts, fg, fga, ftm, fta, orb, drb, stl, ast, blk, pf, tov)\n",
        "    return game_score\n",
        "\n",
        "# Chemin vers le fichier CSV\n",
        "chemin = \"NBA Stats official 2022-3.csv\"\n",
        "# Importer les données depuis le fichier CSV\n",
        "donnees_bis = pd.read_csv(chemin)\n",
        "\n",
        "# Calcul du Game Score pour le joueur spécifié\n",
        "game_score = game_score_joueur(donnees, donnees_bis, joueur_trouve)\n",
        "print(f\"Le Game Score de {joueur_trouve} est de : {game_score}\")"
      ]
    },
    {
      "cell_type": "markdown",
      "metadata": {},
      "source": [
        "On remarque que les résultats obtenus sont n'importe quoi ! mais je ne sais pas où est l'erreur, les données devraient être bonnes...."
      ]
    }
  ],
  "metadata": {
    "colab": {
      "provenance": []
    },
    "kernelspec": {
      "display_name": "Python 3",
      "name": "python3"
    },
    "language_info": {
      "codemirror_mode": {
        "name": "ipython",
        "version": 3
      },
      "file_extension": ".py",
      "mimetype": "text/x-python",
      "name": "python",
      "nbconvert_exporter": "python",
      "pygments_lexer": "ipython3",
      "version": "3.11.9"
    }
  },
  "nbformat": 4,
  "nbformat_minor": 0
}
