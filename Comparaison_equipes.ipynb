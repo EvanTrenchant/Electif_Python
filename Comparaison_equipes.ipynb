{
 "cells": [
  {
   "cell_type": "markdown",
   "metadata": {},
   "source": [
    "Dans ce notebook, nous allons nous intéresser plus en détails aux équipes et étudier les résultats lorsqu'elles s'affrontent."
   ]
  },
  {
   "cell_type": "markdown",
   "metadata": {},
   "source": [
    "Tout d'abord, on crée une fonction qui permet de demander à l'utilisateur de saisir le nom d'un équipe et de la reconnaître dans sa forme abrégée. On récupère alors les noms des joueurs faisant partie de cette équipe."
   ]
  },
  {
   "cell_type": "code",
   "execution_count": 60,
   "metadata": {},
   "outputs": [],
   "source": [
    "correspondance_equipes = {\n",
    "    'Phi': 'Philadelphia 76ers',\n",
    "    'Dal': 'Dallas Mavericks',\n",
    "    'Por': 'Portland Trail Blazers',\n",
    "    'Okc': 'Oklahoma City Thunder',\n",
    "    'Mil': 'Milwaukee Bucks',\n",
    "    'Bos': 'Boston Celtics',\n",
    "    'Bro': 'Brooklyn Nets',\n",
    "    'Gol': 'Golden State Warriors',\n",
    "    'Lal': 'Los Angeles Lakers',\n",
    "    'Cle': 'Cleveland Cavaliers',\n",
    "    'Pho': 'Phoenix Suns',\n",
    "    'Mem': 'Memphis Grizzlies',\n",
    "    'Atl': 'Atlanta Hawks',\n",
    "    'Nor': 'New Orleans Pelicans',\n",
    "    'Uta': 'Utah Jazz',\n",
    "    'Nyk': 'New York Knicks',\n",
    "    'Sac': 'Sacramento Kings',\n",
    "    'Chi': 'Chicago Bulls',\n",
    "    'Min': 'Minnesota Timberwolves',\n",
    "    'Den': 'Denver Nuggets',\n",
    "    'Tor': 'Toronto Raptors',\n",
    "    'Lac': 'Los Angeles Clippers',\n",
    "    'Cha': 'Charlotte Hornets',\n",
    "    'Was': 'Washington Wizards',\n",
    "    'Mia': 'Miami Heat',\n",
    "    'Hou': 'Houston Rockets',\n",
    "    'San': 'San Antonio Spurs',\n",
    "    'Det': 'Detroit Pistons',\n",
    "    'Ind': 'Indiana Pacers',\n",
    "    'Orl': 'Orlando Magic'\n",
    "}\n",
    "\n",
    "def trouver_equipe(input_nom, equipes_disponibles):\n",
    "    \"\"\"\n",
    "    Cette fonction recherche le meilleur résultat correspondant à l'input_nom parmi les noms d'équipe disponibles.\n",
    "    \"\"\"\n",
    "    meilleur_resultat = None\n",
    "    meilleur_score = 0\n",
    "    \n",
    "    # Convertir l'input en minuscules pour la recherche sans distinguer la casse\n",
    "    input_nom = input_nom.lower()\n",
    "    \n",
    "    # Parcourir les noms d'équipe disponibles\n",
    "    for equipe_abrege in equipes_disponibles:\n",
    "        equipe_complet = correspondance_equipes.get(equipe_abrege)\n",
    "        if not equipe_complet:\n",
    "            continue\n",
    "        \n",
    "        # Convertir le nom de l'équipe en minuscules pour la comparaison sans distinguer la casse\n",
    "        equipe_lower = equipe_complet.lower()\n",
    "        \n",
    "        # Calculer le score de correspondance entre l'input et le nom de l'équipe\n",
    "        score = 0\n",
    "        for mot in input_nom.split():\n",
    "            if mot in equipe_lower:\n",
    "                score += 1\n",
    "        \n",
    "        # Mettre à jour le meilleur résultat\n",
    "        if score > meilleur_score:\n",
    "            meilleur_score = score\n",
    "            meilleur_resultat = equipe_abrege\n",
    "    \n",
    "    return meilleur_resultat\n",
    "\n",
    "\n",
    "def liste_equipes(dataframe):\n",
    "    # Récupérer les noms uniques des équipes dans la colonne \"Equipe\"\n",
    "    equipes = dataframe['TEAM'].unique().tolist()\n",
    "    return equipes\n",
    "\n",
    "def joueurs_par_equipe(dataframe, nom_equipe):\n",
    "    # Filtrer les données pour n'inclure que les joueurs de l'équipe spécifiée\n",
    "    joueurs_equipe = dataframe[dataframe['TEAM'] == nom_equipe]\n",
    "    return joueurs_equipe\n"
   ]
  },
  {
   "cell_type": "markdown",
   "metadata": {},
   "source": [
    "On crée une fonction qui permet de récupérer le cinq majeur de l'équipe étudiée, c'est-à-dire les cinq joueurs qui passent le plus de temps sur le terrain et qui ont donc le plus grand impact sur la réussite de leur équipe."
   ]
  },
  {
   "cell_type": "code",
   "execution_count": 61,
   "metadata": {},
   "outputs": [
    {
     "name": "stdout",
     "output_type": "stream",
     "text": [
      "Les joueurs de l'équipe Miami Heat sont les suivants :\n",
      "35          Jimmy Butler\n",
      "52           Bam Adebayo\n",
      "56           Tyler Herro\n",
      "161            Max Strus\n",
      "166           Kyle Lowry\n",
      "182       Victor Oladipo\n",
      "211         Caleb Martin\n",
      "220         Gabe Vincent\n",
      "275           Kevin Love\n",
      "334          Cody Zeller\n",
      "340      Duncan Robinson\n",
      "365       Dewayne Dedmon\n",
      "381         Nikola Jovic\n",
      "385           Jamal Cain\n",
      "436    Haywood Highsmith\n",
      "441       Omer Yurtseven\n",
      "465        Udonis Haslem\n",
      "469       Jamaree Bouyea\n",
      "481     Orlando Robinson\n",
      "548            Dru Smith\n",
      "Name: NAME, dtype: object\n",
      "Les cinq joueurs ayant le temps de jeu moyen le plus élevé dans l'équipe sont :\n",
      "             NAME   MPG\n",
      "56    Tyler Herro  34.9\n",
      "52    Bam Adebayo  34.6\n",
      "35   Jimmy Butler  33.4\n",
      "166    Kyle Lowry  31.2\n",
      "211  Caleb Martin  29.3\n"
     ]
    }
   ],
   "source": [
    "chemin_equipe_csv = \"NBA Stats 202223 All Stats  NBA Player Props Tool.csv\"\n",
    "# Importer les données depuis le fichier team CSV\n",
    "team = pd.read_csv(chemin_equipe_csv)\n",
    "attributs = ['PPG', 'RPG', 'APG', 'BPG', 'SPG', 'TPG', 'TS%']\n",
    "\n",
    "equipes_disponibles = liste_equipes(team)\n",
    "equipe1 = input(\"Entrez le nom de l'équipe : \")\n",
    "equipe_trouvee = trouver_equipe(equipe1, equipes_disponibles)\n",
    "joueurs1 = joueurs_par_equipe(team, equipe_trouvee)\n",
    "print(f\"Les joueurs de l'équipe {correspondance_equipes.get(equipe_trouvee)} sont les suivants :\")\n",
    "print(joueurs1['NAME'])\n",
    "\n",
    "def cinq_majeur(dataframe, joueurs):\n",
    "    # Trier les joueurs par ordre décroissant de temps de jeu moyen (MPG)\n",
    "    equipe_triee = joueurs.sort_values(by='MPG', ascending=False)\n",
    "    # Sélectionner les cinq premiers joueurs avec le temps de jeu moyen le plus élevé\n",
    "    cinq_majeur = equipe_triee.head(5)\n",
    "    return cinq_majeur\n",
    "cinq_joueurs = cinq_majeur(donnees, joueurs1)\n",
    "print(\"Les cinq joueurs ayant le temps de jeu moyen le plus élevé dans l'équipe sont :\")\n",
    "print(cinq_joueurs[['NAME', 'MPG']])"
   ]
  },
  {
   "cell_type": "markdown",
   "metadata": {},
   "source": [
    "On répète l'opération pour obtenir une deuxième équipe à laquelle s'opposera la première."
   ]
  },
  {
   "cell_type": "code",
   "execution_count": 62,
   "metadata": {},
   "outputs": [
    {
     "name": "stdout",
     "output_type": "stream",
     "text": [
      "Les joueurs de l'équipe Chicago Bulls sont les suivants :\n",
      "23           Zach LaVine\n",
      "26         DeMar DeRozan\n",
      "73        Nikola Vucevic\n",
      "196     Patrick Williams\n",
      "209           Coby White\n",
      "249          Ayo Dosunmu\n",
      "331         Goran Dragic\n",
      "352       Andre Drummond\n",
      "359     Patrick Beverley\n",
      "372          Alex Caruso\n",
      "390        Javonte Green\n",
      "403    Derrick Jones Jr.\n",
      "460         Terry Taylor\n",
      "518         Carlik Jones\n",
      "549          Dalen Terry\n",
      "566         Tony Bradley\n",
      "587         Malcolm Hill\n",
      "595      Marko Simonovic\n",
      "Name: NAME, dtype: object\n",
      "Les cinq joueurs ayant le temps de jeu moyen le plus élevé dans l'équipe sont :\n",
      "                 NAME   MPG\n",
      "26      DeMar DeRozan  36.2\n",
      "23        Zach LaVine  36.0\n",
      "73     Nikola Vucevic  33.5\n",
      "196  Patrick Williams  28.3\n",
      "359  Patrick Beverley  27.5\n"
     ]
    }
   ],
   "source": [
    "equipes_disponibles = liste_equipes(team)\n",
    "equipe2 = input(\"Entrez le nom de l'équipe : \")\n",
    "equipe_trouvee = trouver_equipe(equipe2, equipes_disponibles)\n",
    "joueurs2 = joueurs_par_equipe(team, equipe_trouvee)\n",
    "print(f\"Les joueurs de l'équipe {correspondance_equipes.get(equipe_trouvee)} sont les suivants :\")\n",
    "print(joueurs2['NAME'])\n",
    "\n",
    "cinq_joueurs = cinq_majeur(team, joueurs2)\n",
    "print(\"Les cinq joueurs ayant le temps de jeu moyen le plus élevé dans l'équipe sont :\")\n",
    "print(cinq_joueurs[['NAME', 'MPG']])"
   ]
  },
  {
   "cell_type": "markdown",
   "metadata": {},
   "source": [
    "Pour comparer les équipes, nous allons nous appuyer sur les performances individuelles de chaque joueur composant le cinq majeur. Ces performances seront évaluées à l'aide du gamescore.\n",
    "\n",
    "Voici ci-dessous un calcul du gamescore basé sur la formule de John Hollinger:\n",
    "Points marqués + (0,4 x Paniers marqués) – (0,7 x Paniers tentés) – (0,4 x (Lancers francs tentés – Lancers francs marqués)) + (0,7 x Rebonds offensifs) + (0,3 x Rebonds défensifs) + Interceptions + (0,7 x Passes décisives) + (0,7 x Contres) – (0,4 x Fautes personnelles) – Turnovers\n",
    "\n",
    "| Statistique attendue          | Variable correspondante dans les données   | Description                                                                         |\n",
    "|-------------------------------|--------------------------------------------|-------------------------------------------------------------------------------------|\n",
    "| pts (float)                   | PPG (Points Per Game)                      | Points marqués par le joueur.                                                      |\n",
    "| fg (float)                    | FG (Field Goals Made)                      | Paniers réussis par le joueur.                                                     |\n",
    "| fga (float)                   | FGA (Field Goals Attempted)                | Tentatives de panier du joueur.                                                    |\n",
    "| fta (float)                   | FTA (Free Throws Attempted)                | Lancers francs tentés par le joueur.                                               |\n",
    "| ft (float)                    | FT (Free Throws Made)                      | Lancers francs réussis par le joueur.                                               |\n",
    "| orb (float)                   | ORB (Offensive Rebounds)                   | Rebonds offensifs du joueur.                                                       |\n",
    "| drb (float)                   | DRB (Defensive Rebounds)                   | Rebonds défensifs du joueur.                                                       |\n",
    "| stl (float)                   | SPG (Steals Per Game)                      | Interceptions réalisées par le joueur.                                              |\n",
    "| ast (float)                   | APG (Assists Per Game)                     | Passes décisives du joueur.                                                         |\n",
    "| blk (float)                   | BPG (Blocks Per Game)                      | Contres réalisés par le joueur.                                                     |\n",
    "| pf (float)                    | PF (Personal Fouls)                        | Fautes personnelles commises par le joueur.                                         |\n",
    "| tov (float)                   | TPG (Turnovers Per Game)                   | Balles perdues par le joueur.                                                       |\n",
    "\n",
    "Par ailleurs, on supposeras:\n",
    "\n",
    "$$ \\text{FGA} = \\text{2PA} + \\text{3PA}$$\n",
    "\n",
    "Cependant, il est important de noter que dans certains cas, une tentative de tir à trois points peut être suivie d'une faute, ce qui conduirait à une tentative de lancer franc supplémentaire (FTA). Dans de tels cas, la tentative de tir à trois points ne serait pas comptabilisée dans les FGA, mais elle serait incluse dans les FTA."
   ]
  },
  {
   "cell_type": "code",
   "execution_count": 71,
   "metadata": {},
   "outputs": [],
   "source": [
    "def calculate_game_score(pts, fg, fga, ftm, fta, orb, drb, stl, ast, blk, pf, tov):\n",
    "    game_score = (\n",
    "        pts + 0.4 * fg + 0.7 * orb + 0.3 * drb + stl + 0.7 * ast + 0.7 * blk\n",
    "        - 0.7 * fga - 0.4 * (fta-ftm) - 0.4 * pf - tov\n",
    "    )\n",
    "    return game_score\n",
    "def game_score_joueur(dataframe, dataframe2, nom_joueur):\n",
    "    # Récupérer les données du joueur spécifié\n",
    "    joueur = dataframe[dataframe['NAME'] == nom_joueur]\n",
    "    joueur_bis = dataframe2[dataframe2['Player'] == nom_joueur]\n",
    "    if joueur.empty or joueur_bis.empty:\n",
    "        print(\"Le joueur spécifié n'a pas été trouvé.\")\n",
    "        return None\n",
    "    \n",
    "    \n",
    "    # Convertir les valeurs pertinentes en float ou int\n",
    "    pts = float(joueur_bis['PTS'].iloc[0])\n",
    "    fga = float(joueur_bis['FGA'].iloc[0])\n",
    "    fg_percent = float(joueur_bis['FG%'].iloc[0])/100\n",
    "    ftm = float(joueur_bis['FTM'].iloc[0])\n",
    "    fta = float(joueur_bis['FTA'].iloc[0])\n",
    "    ft_percent = float(joueur_bis['FT%'].iloc[0])/100\n",
    "    orb = float(joueur_bis['OREB'].iloc[0])\n",
    "    drb = float(joueur_bis['DREB'].iloc[0])\n",
    "    stl = float(joueur_bis['STL'].iloc[0])\n",
    "    ast = float(joueur_bis['AST'].iloc[0])\n",
    "    blk = float(joueur_bis['BLK'].iloc[0])\n",
    "    pf = float(joueur_bis['PF'].iloc[0])\n",
    "    tov = float(joueur_bis['TOV'].iloc[0])\n",
    "    fg = fg_percent*fga\n",
    "    gp = float(joueur_bis['GP'].iloc[0])\n",
    "\n",
    "    # Calcul du Game Score\n",
    "    game_score = calculate_game_score(pts, fg, fga, ftm, fta, orb, drb, stl, ast, blk, pf, tov)/gp\n",
    "    return game_score\n",
    "\n",
    "# Chemin vers le fichier CSV\n",
    "chemin = \"NBA Stats official 2022-3.csv\"\n",
    "# Importer les données depuis le fichier CSV\n",
    "donnees_bis = pd.read_csv(chemin)"
   ]
  },
  {
   "cell_type": "code",
   "execution_count": 72,
   "metadata": {},
   "outputs": [
    {
     "data": {
      "application/vnd.plotly.v1+json": {
       "config": {
        "plotlyServerURL": "https://plot.ly"
       },
       "data": [
        {
         "name": "Miami",
         "type": "bar",
         "x": [
          "Tyler Herro",
          "Bam Adebayo",
          "Jimmy Butler",
          "Kyle Lowry",
          "Caleb Martin"
         ],
         "y": [
          14.018513432835826,
          16.89498666666666,
          22.00395,
          9.8032,
          8.00434929577465
         ]
        },
        {
         "name": "Chicago",
         "type": "bar",
         "x": [
          "DeMar DeRozan",
          "Zach LaVine",
          "Nikola Vucevic",
          "Patrick Williams",
          "Patrick Beverley"
         ],
         "y": [
          18.932227027027025,
          17.6347012987013,
          15.622975609756102,
          7.795746341463415,
          5.937313432835821
         ]
        }
       ],
       "layout": {
        "barmode": "group",
        "template": {
         "data": {
          "bar": [
           {
            "error_x": {
             "color": "#2a3f5f"
            },
            "error_y": {
             "color": "#2a3f5f"
            },
            "marker": {
             "line": {
              "color": "#E5ECF6",
              "width": 0.5
             },
             "pattern": {
              "fillmode": "overlay",
              "size": 10,
              "solidity": 0.2
             }
            },
            "type": "bar"
           }
          ],
          "barpolar": [
           {
            "marker": {
             "line": {
              "color": "#E5ECF6",
              "width": 0.5
             },
             "pattern": {
              "fillmode": "overlay",
              "size": 10,
              "solidity": 0.2
             }
            },
            "type": "barpolar"
           }
          ],
          "carpet": [
           {
            "aaxis": {
             "endlinecolor": "#2a3f5f",
             "gridcolor": "white",
             "linecolor": "white",
             "minorgridcolor": "white",
             "startlinecolor": "#2a3f5f"
            },
            "baxis": {
             "endlinecolor": "#2a3f5f",
             "gridcolor": "white",
             "linecolor": "white",
             "minorgridcolor": "white",
             "startlinecolor": "#2a3f5f"
            },
            "type": "carpet"
           }
          ],
          "choropleth": [
           {
            "colorbar": {
             "outlinewidth": 0,
             "ticks": ""
            },
            "type": "choropleth"
           }
          ],
          "contour": [
           {
            "colorbar": {
             "outlinewidth": 0,
             "ticks": ""
            },
            "colorscale": [
             [
              0,
              "#0d0887"
             ],
             [
              0.1111111111111111,
              "#46039f"
             ],
             [
              0.2222222222222222,
              "#7201a8"
             ],
             [
              0.3333333333333333,
              "#9c179e"
             ],
             [
              0.4444444444444444,
              "#bd3786"
             ],
             [
              0.5555555555555556,
              "#d8576b"
             ],
             [
              0.6666666666666666,
              "#ed7953"
             ],
             [
              0.7777777777777778,
              "#fb9f3a"
             ],
             [
              0.8888888888888888,
              "#fdca26"
             ],
             [
              1,
              "#f0f921"
             ]
            ],
            "type": "contour"
           }
          ],
          "contourcarpet": [
           {
            "colorbar": {
             "outlinewidth": 0,
             "ticks": ""
            },
            "type": "contourcarpet"
           }
          ],
          "heatmap": [
           {
            "colorbar": {
             "outlinewidth": 0,
             "ticks": ""
            },
            "colorscale": [
             [
              0,
              "#0d0887"
             ],
             [
              0.1111111111111111,
              "#46039f"
             ],
             [
              0.2222222222222222,
              "#7201a8"
             ],
             [
              0.3333333333333333,
              "#9c179e"
             ],
             [
              0.4444444444444444,
              "#bd3786"
             ],
             [
              0.5555555555555556,
              "#d8576b"
             ],
             [
              0.6666666666666666,
              "#ed7953"
             ],
             [
              0.7777777777777778,
              "#fb9f3a"
             ],
             [
              0.8888888888888888,
              "#fdca26"
             ],
             [
              1,
              "#f0f921"
             ]
            ],
            "type": "heatmap"
           }
          ],
          "heatmapgl": [
           {
            "colorbar": {
             "outlinewidth": 0,
             "ticks": ""
            },
            "colorscale": [
             [
              0,
              "#0d0887"
             ],
             [
              0.1111111111111111,
              "#46039f"
             ],
             [
              0.2222222222222222,
              "#7201a8"
             ],
             [
              0.3333333333333333,
              "#9c179e"
             ],
             [
              0.4444444444444444,
              "#bd3786"
             ],
             [
              0.5555555555555556,
              "#d8576b"
             ],
             [
              0.6666666666666666,
              "#ed7953"
             ],
             [
              0.7777777777777778,
              "#fb9f3a"
             ],
             [
              0.8888888888888888,
              "#fdca26"
             ],
             [
              1,
              "#f0f921"
             ]
            ],
            "type": "heatmapgl"
           }
          ],
          "histogram": [
           {
            "marker": {
             "pattern": {
              "fillmode": "overlay",
              "size": 10,
              "solidity": 0.2
             }
            },
            "type": "histogram"
           }
          ],
          "histogram2d": [
           {
            "colorbar": {
             "outlinewidth": 0,
             "ticks": ""
            },
            "colorscale": [
             [
              0,
              "#0d0887"
             ],
             [
              0.1111111111111111,
              "#46039f"
             ],
             [
              0.2222222222222222,
              "#7201a8"
             ],
             [
              0.3333333333333333,
              "#9c179e"
             ],
             [
              0.4444444444444444,
              "#bd3786"
             ],
             [
              0.5555555555555556,
              "#d8576b"
             ],
             [
              0.6666666666666666,
              "#ed7953"
             ],
             [
              0.7777777777777778,
              "#fb9f3a"
             ],
             [
              0.8888888888888888,
              "#fdca26"
             ],
             [
              1,
              "#f0f921"
             ]
            ],
            "type": "histogram2d"
           }
          ],
          "histogram2dcontour": [
           {
            "colorbar": {
             "outlinewidth": 0,
             "ticks": ""
            },
            "colorscale": [
             [
              0,
              "#0d0887"
             ],
             [
              0.1111111111111111,
              "#46039f"
             ],
             [
              0.2222222222222222,
              "#7201a8"
             ],
             [
              0.3333333333333333,
              "#9c179e"
             ],
             [
              0.4444444444444444,
              "#bd3786"
             ],
             [
              0.5555555555555556,
              "#d8576b"
             ],
             [
              0.6666666666666666,
              "#ed7953"
             ],
             [
              0.7777777777777778,
              "#fb9f3a"
             ],
             [
              0.8888888888888888,
              "#fdca26"
             ],
             [
              1,
              "#f0f921"
             ]
            ],
            "type": "histogram2dcontour"
           }
          ],
          "mesh3d": [
           {
            "colorbar": {
             "outlinewidth": 0,
             "ticks": ""
            },
            "type": "mesh3d"
           }
          ],
          "parcoords": [
           {
            "line": {
             "colorbar": {
              "outlinewidth": 0,
              "ticks": ""
             }
            },
            "type": "parcoords"
           }
          ],
          "pie": [
           {
            "automargin": true,
            "type": "pie"
           }
          ],
          "scatter": [
           {
            "fillpattern": {
             "fillmode": "overlay",
             "size": 10,
             "solidity": 0.2
            },
            "type": "scatter"
           }
          ],
          "scatter3d": [
           {
            "line": {
             "colorbar": {
              "outlinewidth": 0,
              "ticks": ""
             }
            },
            "marker": {
             "colorbar": {
              "outlinewidth": 0,
              "ticks": ""
             }
            },
            "type": "scatter3d"
           }
          ],
          "scattercarpet": [
           {
            "marker": {
             "colorbar": {
              "outlinewidth": 0,
              "ticks": ""
             }
            },
            "type": "scattercarpet"
           }
          ],
          "scattergeo": [
           {
            "marker": {
             "colorbar": {
              "outlinewidth": 0,
              "ticks": ""
             }
            },
            "type": "scattergeo"
           }
          ],
          "scattergl": [
           {
            "marker": {
             "colorbar": {
              "outlinewidth": 0,
              "ticks": ""
             }
            },
            "type": "scattergl"
           }
          ],
          "scattermapbox": [
           {
            "marker": {
             "colorbar": {
              "outlinewidth": 0,
              "ticks": ""
             }
            },
            "type": "scattermapbox"
           }
          ],
          "scatterpolar": [
           {
            "marker": {
             "colorbar": {
              "outlinewidth": 0,
              "ticks": ""
             }
            },
            "type": "scatterpolar"
           }
          ],
          "scatterpolargl": [
           {
            "marker": {
             "colorbar": {
              "outlinewidth": 0,
              "ticks": ""
             }
            },
            "type": "scatterpolargl"
           }
          ],
          "scatterternary": [
           {
            "marker": {
             "colorbar": {
              "outlinewidth": 0,
              "ticks": ""
             }
            },
            "type": "scatterternary"
           }
          ],
          "surface": [
           {
            "colorbar": {
             "outlinewidth": 0,
             "ticks": ""
            },
            "colorscale": [
             [
              0,
              "#0d0887"
             ],
             [
              0.1111111111111111,
              "#46039f"
             ],
             [
              0.2222222222222222,
              "#7201a8"
             ],
             [
              0.3333333333333333,
              "#9c179e"
             ],
             [
              0.4444444444444444,
              "#bd3786"
             ],
             [
              0.5555555555555556,
              "#d8576b"
             ],
             [
              0.6666666666666666,
              "#ed7953"
             ],
             [
              0.7777777777777778,
              "#fb9f3a"
             ],
             [
              0.8888888888888888,
              "#fdca26"
             ],
             [
              1,
              "#f0f921"
             ]
            ],
            "type": "surface"
           }
          ],
          "table": [
           {
            "cells": {
             "fill": {
              "color": "#EBF0F8"
             },
             "line": {
              "color": "white"
             }
            },
            "header": {
             "fill": {
              "color": "#C8D4E3"
             },
             "line": {
              "color": "white"
             }
            },
            "type": "table"
           }
          ]
         },
         "layout": {
          "annotationdefaults": {
           "arrowcolor": "#2a3f5f",
           "arrowhead": 0,
           "arrowwidth": 1
          },
          "autotypenumbers": "strict",
          "coloraxis": {
           "colorbar": {
            "outlinewidth": 0,
            "ticks": ""
           }
          },
          "colorscale": {
           "diverging": [
            [
             0,
             "#8e0152"
            ],
            [
             0.1,
             "#c51b7d"
            ],
            [
             0.2,
             "#de77ae"
            ],
            [
             0.3,
             "#f1b6da"
            ],
            [
             0.4,
             "#fde0ef"
            ],
            [
             0.5,
             "#f7f7f7"
            ],
            [
             0.6,
             "#e6f5d0"
            ],
            [
             0.7,
             "#b8e186"
            ],
            [
             0.8,
             "#7fbc41"
            ],
            [
             0.9,
             "#4d9221"
            ],
            [
             1,
             "#276419"
            ]
           ],
           "sequential": [
            [
             0,
             "#0d0887"
            ],
            [
             0.1111111111111111,
             "#46039f"
            ],
            [
             0.2222222222222222,
             "#7201a8"
            ],
            [
             0.3333333333333333,
             "#9c179e"
            ],
            [
             0.4444444444444444,
             "#bd3786"
            ],
            [
             0.5555555555555556,
             "#d8576b"
            ],
            [
             0.6666666666666666,
             "#ed7953"
            ],
            [
             0.7777777777777778,
             "#fb9f3a"
            ],
            [
             0.8888888888888888,
             "#fdca26"
            ],
            [
             1,
             "#f0f921"
            ]
           ],
           "sequentialminus": [
            [
             0,
             "#0d0887"
            ],
            [
             0.1111111111111111,
             "#46039f"
            ],
            [
             0.2222222222222222,
             "#7201a8"
            ],
            [
             0.3333333333333333,
             "#9c179e"
            ],
            [
             0.4444444444444444,
             "#bd3786"
            ],
            [
             0.5555555555555556,
             "#d8576b"
            ],
            [
             0.6666666666666666,
             "#ed7953"
            ],
            [
             0.7777777777777778,
             "#fb9f3a"
            ],
            [
             0.8888888888888888,
             "#fdca26"
            ],
            [
             1,
             "#f0f921"
            ]
           ]
          },
          "colorway": [
           "#636efa",
           "#EF553B",
           "#00cc96",
           "#ab63fa",
           "#FFA15A",
           "#19d3f3",
           "#FF6692",
           "#B6E880",
           "#FF97FF",
           "#FECB52"
          ],
          "font": {
           "color": "#2a3f5f"
          },
          "geo": {
           "bgcolor": "white",
           "lakecolor": "white",
           "landcolor": "#E5ECF6",
           "showlakes": true,
           "showland": true,
           "subunitcolor": "white"
          },
          "hoverlabel": {
           "align": "left"
          },
          "hovermode": "closest",
          "mapbox": {
           "style": "light"
          },
          "paper_bgcolor": "white",
          "plot_bgcolor": "#E5ECF6",
          "polar": {
           "angularaxis": {
            "gridcolor": "white",
            "linecolor": "white",
            "ticks": ""
           },
           "bgcolor": "#E5ECF6",
           "radialaxis": {
            "gridcolor": "white",
            "linecolor": "white",
            "ticks": ""
           }
          },
          "scene": {
           "xaxis": {
            "backgroundcolor": "#E5ECF6",
            "gridcolor": "white",
            "gridwidth": 2,
            "linecolor": "white",
            "showbackground": true,
            "ticks": "",
            "zerolinecolor": "white"
           },
           "yaxis": {
            "backgroundcolor": "#E5ECF6",
            "gridcolor": "white",
            "gridwidth": 2,
            "linecolor": "white",
            "showbackground": true,
            "ticks": "",
            "zerolinecolor": "white"
           },
           "zaxis": {
            "backgroundcolor": "#E5ECF6",
            "gridcolor": "white",
            "gridwidth": 2,
            "linecolor": "white",
            "showbackground": true,
            "ticks": "",
            "zerolinecolor": "white"
           }
          },
          "shapedefaults": {
           "line": {
            "color": "#2a3f5f"
           }
          },
          "ternary": {
           "aaxis": {
            "gridcolor": "white",
            "linecolor": "white",
            "ticks": ""
           },
           "baxis": {
            "gridcolor": "white",
            "linecolor": "white",
            "ticks": ""
           },
           "bgcolor": "#E5ECF6",
           "caxis": {
            "gridcolor": "white",
            "linecolor": "white",
            "ticks": ""
           }
          },
          "title": {
           "x": 0.05
          },
          "xaxis": {
           "automargin": true,
           "gridcolor": "white",
           "linecolor": "white",
           "ticks": "",
           "title": {
            "standoff": 15
           },
           "zerolinecolor": "white",
           "zerolinewidth": 2
          },
          "yaxis": {
           "automargin": true,
           "gridcolor": "white",
           "linecolor": "white",
           "ticks": "",
           "title": {
            "standoff": 15
           },
           "zerolinecolor": "white",
           "zerolinewidth": 2
          }
         }
        },
        "title": {
         "text": "Comparaison des Game Scores des cinq majeurs des deux équipes"
        },
        "xaxis": {
         "title": {
          "text": "Joueurs"
         }
        },
        "yaxis": {
         "title": {
          "text": "Game Score"
         }
        }
       }
      }
     },
     "metadata": {},
     "output_type": "display_data"
    }
   ],
   "source": [
    "def cinq_majeur(dataframe, equipe):\n",
    "    equipe_triee = equipe.sort_values(by='MPG', ascending=False)\n",
    "    cinq_majeur = equipe_triee.head(5)\n",
    "    return cinq_majeur\n",
    "\n",
    "# Obtenez le cinq majeur des deux équipes\n",
    "cinq_majeur_equipe1 = cinq_majeur(team, joueurs1)\n",
    "cinq_majeur_equipe2 = cinq_majeur(team, joueurs2)\n",
    "\n",
    "# Récupérer les noms des joueurs pour chaque équipe\n",
    "noms_joueurs_equipe1 = cinq_majeur_equipe1['NAME'].tolist()\n",
    "noms_joueurs_equipe2 = cinq_majeur_equipe2['NAME'].tolist()\n",
    "\n",
    "# Calculer le Game Score pour chaque joueur de chaque équipe\n",
    "game_scores_equipe1 = [game_score_joueur(team, donnees_bis, joueur) for joueur in noms_joueurs_equipe1]\n",
    "game_scores_equipe2 = [game_score_joueur(team, donnees_bis, joueur) for joueur in noms_joueurs_equipe2]\n",
    "\n",
    "# Créer les traces pour chaque équipe\n",
    "trace_equipe1 = go.Bar(\n",
    "    x=noms_joueurs_equipe1,\n",
    "    y=game_scores_equipe1,\n",
    "    name=equipe1\n",
    ")\n",
    "\n",
    "trace_equipe2 = go.Bar(\n",
    "    x=noms_joueurs_equipe2,\n",
    "    y=game_scores_equipe2,\n",
    "    name=equipe2\n",
    ")\n",
    "\n",
    "# Créer la figure\n",
    "fig = go.Figure(data=[trace_equipe1, trace_equipe2])\n",
    "\n",
    "# Mise en forme du layout\n",
    "fig.update_layout(\n",
    "    title='Comparaison des Game Scores des cinq majeurs des deux équipes',\n",
    "    xaxis=dict(title='Joueurs'),\n",
    "    yaxis=dict(title='Game Score'),\n",
    "    barmode='group'\n",
    ")\n",
    "\n",
    "# Afficher la figure\n",
    "fig.show()"
   ]
  },
  {
   "cell_type": "markdown",
   "metadata": {},
   "source": [
    "On a ainsi un premier graphique qui peut nous indiquer des rapports de force entre différentes équipes. Attention, le diagramme affiché ne fait apparaître que le cinq majeur de chaque équipe et les écarts de force peuvent être compensés par de bons joueurs sortant du banc. Cependant, cette simplification nous permet d'obtenir des chances de victoire et des comparaisons plus accessibles."
   ]
  },
  {
   "cell_type": "code",
   "execution_count": 73,
   "metadata": {},
   "outputs": [
    {
     "name": "stdout",
     "output_type": "stream",
     "text": [
      "La somme des Game Scores des joueurs de l'équipe 1 est : 70.72499939527714\n",
      "La somme des Game Scores des joueurs de l'équipe 2 est : 65.92296370978366\n",
      "L'équipe 1 a un pourcentage de victoire face à l'équipe Chi de  51.76 %.\n"
     ]
    }
   ],
   "source": [
    "score_equipe1 = sum(game_scores_equipe1)\n",
    "print(\"La somme des Game Scores des joueurs de l'équipe 1 est :\", score_equipe1)\n",
    "\n",
    "score_equipe2 = sum(game_scores_equipe2)\n",
    "print(\"La somme des Game Scores des joueurs de l'équipe 2 est :\", score_equipe2)\n",
    "\n",
    "# Calcul très simplifié d'un pourcentage de victoire possible : \n",
    "victoire = 100 * score_equipe1 / (score_equipe1 + score_equipe2) \n",
    "# Conserver seulement les quatre premiers chiffres \n",
    "vic = round(victoire, 2)\n",
    "print(\"L'équipe 1 a un pourcentage de victoire face à l'équipe\", equipe_trouvee, \"de \", vic, \"%.\")\n"
   ]
  },
  {
   "cell_type": "markdown",
   "metadata": {},
   "source": [
    "A la fin de la saison régulière, il y a en NBA les Playoffs qui sont des affrontements en BO7 (Best Of 7) et qui permettent de déterminer le champion NBA. Avec le pourcentage de victoire calculé on peut estimer les probabilités de chaque issue du BO7."
   ]
  },
  {
   "cell_type": "code",
   "execution_count": 74,
   "metadata": {},
   "outputs": [
    {
     "name": "stdout",
     "output_type": "stream",
     "text": [
      "Probabilité que l'équipe 1 perde 0-4 : 0.0542\n",
      "Probabilité que l'équipe 1 perde 1-4 : 0.1402\n",
      "Probabilité que l'équipe 1 perde 2-4 : 0.2176\n",
      "Probabilité que l'équipe 1 perde 3-4 : 0.2628\n",
      "Probabilité que l'équipe 1 gagne 4-3 : 0.2820\n",
      "Probabilité que l'équipe 1 gagne 4-2 : 0.2505\n",
      "Probabilité que l'équipe 1 gagne 4-1 : 0.1731\n",
      "Probabilité que l'équipe 1 gagne 4-0 : 0.0718\n"
     ]
    }
   ],
   "source": [
    "import math\n",
    "\n",
    "# Probabilité de victoire de l'équipe 1 (en pourcentage)\n",
    "proba = vic / 100\n",
    "\n",
    "# Fonction pour calculer le coefficient binomial (combinaison)\n",
    "def binomial_coefficient(n, k):\n",
    "    return math.comb(n, k)\n",
    "\n",
    "# Résultats possibles du BO7\n",
    "resultats1 = [(4, 3-i) for i in range(4)]\n",
    "resultats2 = [(i, 4) for i in range(4)]\n",
    "\n",
    "# Calcul des probabilités de chaque résultat possible pour l'équipe 1\n",
    "proba1 = {}\n",
    "for equipe1_wins, equipe2_wins in resultats1:\n",
    "    prob = binomial_coefficient(equipe1_wins+equipe2_wins, equipe2_wins) * ((1-proba) ** equipe2_wins) * ((proba) ** (equipe1_wins))\n",
    "    proba1[(equipe1_wins, equipe2_wins)] = prob\n",
    "\n",
    "# Calcul des probabilités de chaque résultat possible pour l'équipe 2\n",
    "proba2 = {}\n",
    "for equipe1_wins, equipe2_wins in resultats2:\n",
    "    prob = binomial_coefficient(equipe1_wins+equipe2_wins, equipe1_wins) * ((proba) ** equipe1_wins) * ((1-proba) ** (equipe2_wins))\n",
    "    proba2[(equipe1_wins, equipe2_wins)] = prob\n",
    "\n",
    "# Affichage des probabilités de chaque résultat possible\n",
    "for resultat, prob in proba2.items():\n",
    "    print(f\"Probabilité que l'équipe 1 perde {resultat[0]}-{resultat[1]} : {prob:.4f}\")\n",
    "for resultat, prob in proba1.items():\n",
    "    print(f\"Probabilité que l'équipe 1 gagne {resultat[0]}-{resultat[1]} : {prob:.4f}\")"
   ]
  },
  {
   "cell_type": "markdown",
   "metadata": {},
   "source": [
    "On remarque que la somme des probabilités calculées est supérieure à 1. Cela est lié à la manière dont on a calculé ces probabilités, en séparant le calcul en deux selon si l'équipe 1 gagne ou perd. Cependant, les rapports entre les probabilités sont bons et on peut donc normaliser les probabilités obtenues en les divisant par la somme des probabilités."
   ]
  },
  {
   "cell_type": "code",
   "execution_count": 75,
   "metadata": {},
   "outputs": [
    {
     "name": "stdout",
     "output_type": "stream",
     "text": [
      "1.4522156315711219\n",
      "[0.03729048993961711, 0.09650778796372907, 0.14985729315007848, 0.18098764818045474, 0.1941940437359108, 0.17252491447753265, 0.11921290386783628, 0.049424918684840904]\n"
     ]
    }
   ],
   "source": [
    "#On calcule la somme des probabilités\n",
    "somme =0\n",
    "for resultat, prob in proba1.items():\n",
    "    somme +=prob\n",
    "for resultat, prob in proba2.items():\n",
    "    somme +=prob\n",
    "print(somme)\n",
    "\n",
    "#On normalise les probabilités obtenues et on les ordonne dans une liste\n",
    "proba = []\n",
    "for resultat, prob in proba2.items():\n",
    "    proba.append(prob/somme)\n",
    "for resultat, prob in proba1.items():\n",
    "    proba.append(prob/somme)\n",
    "\n",
    "print(proba)"
   ]
  },
  {
   "cell_type": "code",
   "execution_count": 76,
   "metadata": {},
   "outputs": [
    {
     "data": {
      "application/vnd.plotly.v1+json": {
       "config": {
        "plotlyServerURL": "https://plot.ly"
       },
       "data": [
        {
         "type": "bar",
         "x": [
          "0-4",
          "1-4",
          "2-4",
          "3-4",
          "4-3",
          "4-2",
          "4-1",
          "4-0"
         ],
         "y": [
          0.03729048993961711,
          0.09650778796372907,
          0.14985729315007848,
          0.18098764818045474,
          0.1941940437359108,
          0.17252491447753265,
          0.11921290386783628,
          0.049424918684840904
         ]
        }
       ],
       "layout": {
        "template": {
         "data": {
          "bar": [
           {
            "error_x": {
             "color": "#2a3f5f"
            },
            "error_y": {
             "color": "#2a3f5f"
            },
            "marker": {
             "line": {
              "color": "#E5ECF6",
              "width": 0.5
             },
             "pattern": {
              "fillmode": "overlay",
              "size": 10,
              "solidity": 0.2
             }
            },
            "type": "bar"
           }
          ],
          "barpolar": [
           {
            "marker": {
             "line": {
              "color": "#E5ECF6",
              "width": 0.5
             },
             "pattern": {
              "fillmode": "overlay",
              "size": 10,
              "solidity": 0.2
             }
            },
            "type": "barpolar"
           }
          ],
          "carpet": [
           {
            "aaxis": {
             "endlinecolor": "#2a3f5f",
             "gridcolor": "white",
             "linecolor": "white",
             "minorgridcolor": "white",
             "startlinecolor": "#2a3f5f"
            },
            "baxis": {
             "endlinecolor": "#2a3f5f",
             "gridcolor": "white",
             "linecolor": "white",
             "minorgridcolor": "white",
             "startlinecolor": "#2a3f5f"
            },
            "type": "carpet"
           }
          ],
          "choropleth": [
           {
            "colorbar": {
             "outlinewidth": 0,
             "ticks": ""
            },
            "type": "choropleth"
           }
          ],
          "contour": [
           {
            "colorbar": {
             "outlinewidth": 0,
             "ticks": ""
            },
            "colorscale": [
             [
              0,
              "#0d0887"
             ],
             [
              0.1111111111111111,
              "#46039f"
             ],
             [
              0.2222222222222222,
              "#7201a8"
             ],
             [
              0.3333333333333333,
              "#9c179e"
             ],
             [
              0.4444444444444444,
              "#bd3786"
             ],
             [
              0.5555555555555556,
              "#d8576b"
             ],
             [
              0.6666666666666666,
              "#ed7953"
             ],
             [
              0.7777777777777778,
              "#fb9f3a"
             ],
             [
              0.8888888888888888,
              "#fdca26"
             ],
             [
              1,
              "#f0f921"
             ]
            ],
            "type": "contour"
           }
          ],
          "contourcarpet": [
           {
            "colorbar": {
             "outlinewidth": 0,
             "ticks": ""
            },
            "type": "contourcarpet"
           }
          ],
          "heatmap": [
           {
            "colorbar": {
             "outlinewidth": 0,
             "ticks": ""
            },
            "colorscale": [
             [
              0,
              "#0d0887"
             ],
             [
              0.1111111111111111,
              "#46039f"
             ],
             [
              0.2222222222222222,
              "#7201a8"
             ],
             [
              0.3333333333333333,
              "#9c179e"
             ],
             [
              0.4444444444444444,
              "#bd3786"
             ],
             [
              0.5555555555555556,
              "#d8576b"
             ],
             [
              0.6666666666666666,
              "#ed7953"
             ],
             [
              0.7777777777777778,
              "#fb9f3a"
             ],
             [
              0.8888888888888888,
              "#fdca26"
             ],
             [
              1,
              "#f0f921"
             ]
            ],
            "type": "heatmap"
           }
          ],
          "heatmapgl": [
           {
            "colorbar": {
             "outlinewidth": 0,
             "ticks": ""
            },
            "colorscale": [
             [
              0,
              "#0d0887"
             ],
             [
              0.1111111111111111,
              "#46039f"
             ],
             [
              0.2222222222222222,
              "#7201a8"
             ],
             [
              0.3333333333333333,
              "#9c179e"
             ],
             [
              0.4444444444444444,
              "#bd3786"
             ],
             [
              0.5555555555555556,
              "#d8576b"
             ],
             [
              0.6666666666666666,
              "#ed7953"
             ],
             [
              0.7777777777777778,
              "#fb9f3a"
             ],
             [
              0.8888888888888888,
              "#fdca26"
             ],
             [
              1,
              "#f0f921"
             ]
            ],
            "type": "heatmapgl"
           }
          ],
          "histogram": [
           {
            "marker": {
             "pattern": {
              "fillmode": "overlay",
              "size": 10,
              "solidity": 0.2
             }
            },
            "type": "histogram"
           }
          ],
          "histogram2d": [
           {
            "colorbar": {
             "outlinewidth": 0,
             "ticks": ""
            },
            "colorscale": [
             [
              0,
              "#0d0887"
             ],
             [
              0.1111111111111111,
              "#46039f"
             ],
             [
              0.2222222222222222,
              "#7201a8"
             ],
             [
              0.3333333333333333,
              "#9c179e"
             ],
             [
              0.4444444444444444,
              "#bd3786"
             ],
             [
              0.5555555555555556,
              "#d8576b"
             ],
             [
              0.6666666666666666,
              "#ed7953"
             ],
             [
              0.7777777777777778,
              "#fb9f3a"
             ],
             [
              0.8888888888888888,
              "#fdca26"
             ],
             [
              1,
              "#f0f921"
             ]
            ],
            "type": "histogram2d"
           }
          ],
          "histogram2dcontour": [
           {
            "colorbar": {
             "outlinewidth": 0,
             "ticks": ""
            },
            "colorscale": [
             [
              0,
              "#0d0887"
             ],
             [
              0.1111111111111111,
              "#46039f"
             ],
             [
              0.2222222222222222,
              "#7201a8"
             ],
             [
              0.3333333333333333,
              "#9c179e"
             ],
             [
              0.4444444444444444,
              "#bd3786"
             ],
             [
              0.5555555555555556,
              "#d8576b"
             ],
             [
              0.6666666666666666,
              "#ed7953"
             ],
             [
              0.7777777777777778,
              "#fb9f3a"
             ],
             [
              0.8888888888888888,
              "#fdca26"
             ],
             [
              1,
              "#f0f921"
             ]
            ],
            "type": "histogram2dcontour"
           }
          ],
          "mesh3d": [
           {
            "colorbar": {
             "outlinewidth": 0,
             "ticks": ""
            },
            "type": "mesh3d"
           }
          ],
          "parcoords": [
           {
            "line": {
             "colorbar": {
              "outlinewidth": 0,
              "ticks": ""
             }
            },
            "type": "parcoords"
           }
          ],
          "pie": [
           {
            "automargin": true,
            "type": "pie"
           }
          ],
          "scatter": [
           {
            "fillpattern": {
             "fillmode": "overlay",
             "size": 10,
             "solidity": 0.2
            },
            "type": "scatter"
           }
          ],
          "scatter3d": [
           {
            "line": {
             "colorbar": {
              "outlinewidth": 0,
              "ticks": ""
             }
            },
            "marker": {
             "colorbar": {
              "outlinewidth": 0,
              "ticks": ""
             }
            },
            "type": "scatter3d"
           }
          ],
          "scattercarpet": [
           {
            "marker": {
             "colorbar": {
              "outlinewidth": 0,
              "ticks": ""
             }
            },
            "type": "scattercarpet"
           }
          ],
          "scattergeo": [
           {
            "marker": {
             "colorbar": {
              "outlinewidth": 0,
              "ticks": ""
             }
            },
            "type": "scattergeo"
           }
          ],
          "scattergl": [
           {
            "marker": {
             "colorbar": {
              "outlinewidth": 0,
              "ticks": ""
             }
            },
            "type": "scattergl"
           }
          ],
          "scattermapbox": [
           {
            "marker": {
             "colorbar": {
              "outlinewidth": 0,
              "ticks": ""
             }
            },
            "type": "scattermapbox"
           }
          ],
          "scatterpolar": [
           {
            "marker": {
             "colorbar": {
              "outlinewidth": 0,
              "ticks": ""
             }
            },
            "type": "scatterpolar"
           }
          ],
          "scatterpolargl": [
           {
            "marker": {
             "colorbar": {
              "outlinewidth": 0,
              "ticks": ""
             }
            },
            "type": "scatterpolargl"
           }
          ],
          "scatterternary": [
           {
            "marker": {
             "colorbar": {
              "outlinewidth": 0,
              "ticks": ""
             }
            },
            "type": "scatterternary"
           }
          ],
          "surface": [
           {
            "colorbar": {
             "outlinewidth": 0,
             "ticks": ""
            },
            "colorscale": [
             [
              0,
              "#0d0887"
             ],
             [
              0.1111111111111111,
              "#46039f"
             ],
             [
              0.2222222222222222,
              "#7201a8"
             ],
             [
              0.3333333333333333,
              "#9c179e"
             ],
             [
              0.4444444444444444,
              "#bd3786"
             ],
             [
              0.5555555555555556,
              "#d8576b"
             ],
             [
              0.6666666666666666,
              "#ed7953"
             ],
             [
              0.7777777777777778,
              "#fb9f3a"
             ],
             [
              0.8888888888888888,
              "#fdca26"
             ],
             [
              1,
              "#f0f921"
             ]
            ],
            "type": "surface"
           }
          ],
          "table": [
           {
            "cells": {
             "fill": {
              "color": "#EBF0F8"
             },
             "line": {
              "color": "white"
             }
            },
            "header": {
             "fill": {
              "color": "#C8D4E3"
             },
             "line": {
              "color": "white"
             }
            },
            "type": "table"
           }
          ]
         },
         "layout": {
          "annotationdefaults": {
           "arrowcolor": "#2a3f5f",
           "arrowhead": 0,
           "arrowwidth": 1
          },
          "autotypenumbers": "strict",
          "coloraxis": {
           "colorbar": {
            "outlinewidth": 0,
            "ticks": ""
           }
          },
          "colorscale": {
           "diverging": [
            [
             0,
             "#8e0152"
            ],
            [
             0.1,
             "#c51b7d"
            ],
            [
             0.2,
             "#de77ae"
            ],
            [
             0.3,
             "#f1b6da"
            ],
            [
             0.4,
             "#fde0ef"
            ],
            [
             0.5,
             "#f7f7f7"
            ],
            [
             0.6,
             "#e6f5d0"
            ],
            [
             0.7,
             "#b8e186"
            ],
            [
             0.8,
             "#7fbc41"
            ],
            [
             0.9,
             "#4d9221"
            ],
            [
             1,
             "#276419"
            ]
           ],
           "sequential": [
            [
             0,
             "#0d0887"
            ],
            [
             0.1111111111111111,
             "#46039f"
            ],
            [
             0.2222222222222222,
             "#7201a8"
            ],
            [
             0.3333333333333333,
             "#9c179e"
            ],
            [
             0.4444444444444444,
             "#bd3786"
            ],
            [
             0.5555555555555556,
             "#d8576b"
            ],
            [
             0.6666666666666666,
             "#ed7953"
            ],
            [
             0.7777777777777778,
             "#fb9f3a"
            ],
            [
             0.8888888888888888,
             "#fdca26"
            ],
            [
             1,
             "#f0f921"
            ]
           ],
           "sequentialminus": [
            [
             0,
             "#0d0887"
            ],
            [
             0.1111111111111111,
             "#46039f"
            ],
            [
             0.2222222222222222,
             "#7201a8"
            ],
            [
             0.3333333333333333,
             "#9c179e"
            ],
            [
             0.4444444444444444,
             "#bd3786"
            ],
            [
             0.5555555555555556,
             "#d8576b"
            ],
            [
             0.6666666666666666,
             "#ed7953"
            ],
            [
             0.7777777777777778,
             "#fb9f3a"
            ],
            [
             0.8888888888888888,
             "#fdca26"
            ],
            [
             1,
             "#f0f921"
            ]
           ]
          },
          "colorway": [
           "#636efa",
           "#EF553B",
           "#00cc96",
           "#ab63fa",
           "#FFA15A",
           "#19d3f3",
           "#FF6692",
           "#B6E880",
           "#FF97FF",
           "#FECB52"
          ],
          "font": {
           "color": "#2a3f5f"
          },
          "geo": {
           "bgcolor": "white",
           "lakecolor": "white",
           "landcolor": "#E5ECF6",
           "showlakes": true,
           "showland": true,
           "subunitcolor": "white"
          },
          "hoverlabel": {
           "align": "left"
          },
          "hovermode": "closest",
          "mapbox": {
           "style": "light"
          },
          "paper_bgcolor": "white",
          "plot_bgcolor": "#E5ECF6",
          "polar": {
           "angularaxis": {
            "gridcolor": "white",
            "linecolor": "white",
            "ticks": ""
           },
           "bgcolor": "#E5ECF6",
           "radialaxis": {
            "gridcolor": "white",
            "linecolor": "white",
            "ticks": ""
           }
          },
          "scene": {
           "xaxis": {
            "backgroundcolor": "#E5ECF6",
            "gridcolor": "white",
            "gridwidth": 2,
            "linecolor": "white",
            "showbackground": true,
            "ticks": "",
            "zerolinecolor": "white"
           },
           "yaxis": {
            "backgroundcolor": "#E5ECF6",
            "gridcolor": "white",
            "gridwidth": 2,
            "linecolor": "white",
            "showbackground": true,
            "ticks": "",
            "zerolinecolor": "white"
           },
           "zaxis": {
            "backgroundcolor": "#E5ECF6",
            "gridcolor": "white",
            "gridwidth": 2,
            "linecolor": "white",
            "showbackground": true,
            "ticks": "",
            "zerolinecolor": "white"
           }
          },
          "shapedefaults": {
           "line": {
            "color": "#2a3f5f"
           }
          },
          "ternary": {
           "aaxis": {
            "gridcolor": "white",
            "linecolor": "white",
            "ticks": ""
           },
           "baxis": {
            "gridcolor": "white",
            "linecolor": "white",
            "ticks": ""
           },
           "bgcolor": "#E5ECF6",
           "caxis": {
            "gridcolor": "white",
            "linecolor": "white",
            "ticks": ""
           }
          },
          "title": {
           "x": 0.05
          },
          "xaxis": {
           "automargin": true,
           "gridcolor": "white",
           "linecolor": "white",
           "ticks": "",
           "title": {
            "standoff": 15
           },
           "zerolinecolor": "white",
           "zerolinewidth": 2
          },
          "yaxis": {
           "automargin": true,
           "gridcolor": "white",
           "linecolor": "white",
           "ticks": "",
           "title": {
            "standoff": 15
           },
           "zerolinecolor": "white",
           "zerolinewidth": 2
          }
         }
        },
        "title": {
         "text": "Probabilités des issues possibles dans un BO7"
        },
        "xaxis": {
         "title": {
          "text": "Résultat de la série"
         }
        },
        "yaxis": {
         "tickformat": ".2%",
         "title": {
          "text": "Probabilité"
         }
        }
       }
      }
     },
     "metadata": {},
     "output_type": "display_data"
    }
   ],
   "source": [
    "# Définition des résultats possibles\n",
    "resultats = [\"0-4\", \"1-4\", \"2-4\", \"3-4\", \"4-3\", \"4-2\", \"4-1\", \"4-0\"]\n",
    "\n",
    "# Création du graphique en barres\n",
    "fig = go.Figure(go.Bar(x=resultats, y=proba))\n",
    "\n",
    "# Personnalisation du graphique\n",
    "fig.update_layout(\n",
    "    title=\"Probabilités des issues possibles dans un BO7\",\n",
    "    xaxis_title=\"Résultat de la série\",\n",
    "    yaxis_title=\"Probabilité\",\n",
    "    yaxis_tickformat=\".2%\",\n",
    ")\n",
    "\n",
    "# Affichage du graphique\n",
    "fig.show()\n"
   ]
  },
  {
   "cell_type": "markdown",
   "metadata": {},
   "source": [
    "Il pourrait être intéressant de comparer les résultats ainsi obtenus aux résultats des play-offs de l'année dernière, peut-être en donnant des pourcentages de chance de remporter le titre pour chaque équipe."
   ]
  }
 ],
 "metadata": {
  "kernelspec": {
   "display_name": "base",
   "language": "python",
   "name": "python3"
  },
  "language_info": {
   "codemirror_mode": {
    "name": "ipython",
    "version": 3
   },
   "file_extension": ".py",
   "mimetype": "text/x-python",
   "name": "python",
   "nbconvert_exporter": "python",
   "pygments_lexer": "ipython3",
   "version": "3.11.5"
  }
 },
 "nbformat": 4,
 "nbformat_minor": 2
}
